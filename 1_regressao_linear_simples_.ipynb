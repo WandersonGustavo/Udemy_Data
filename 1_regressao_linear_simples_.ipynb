{
  "cells": [
    {
      "cell_type": "markdown",
      "metadata": {
        "id": "view-in-github",
        "colab_type": "text"
      },
      "source": [
        "<a href=\"https://colab.research.google.com/github/WandersonGustavo/Udemy_Data_Science/blob/main/1_regressao_linear_simples_.ipynb\" target=\"_parent\"><img src=\"https://colab.research.google.com/assets/colab-badge.svg\" alt=\"Open In Colab\"/></a>"
      ]
    },
    {
      "cell_type": "code",
      "execution_count": null,
      "metadata": {
        "id": "wYEtASbWN_Mm"
      },
      "outputs": [],
      "source": [
        "# Formação Cientista de Dados - Fernando Amaral e Jones Granatyr\n",
        "# Regressão linear simples"
      ]
    },
    {
      "cell_type": "code",
      "execution_count": null,
      "metadata": {
        "id": "AW2wjv8hN_M0"
      },
      "outputs": [],
      "source": [
        "# Importação das bibliotecas, sklearn para criar o modelo de regressão e yellowbrick para visualização de residuais\n",
        "import pandas as pd\n",
        "import numpy as np\n",
        "import matplotlib.pyplot as plt\n",
        "from sklearn.linear_model import LinearRegression\n",
        "# Warning \n",
        "from yellowbrick.regressor import ResidualsPlot "
      ]
    },
    {
      "cell_type": "code",
      "execution_count": null,
      "metadata": {
        "id": "jqezkrbLN_M3"
      },
      "outputs": [],
      "source": [
        "# Carregamento da base de dados e exclusão da primeira coluna\n",
        "base = pd.read_csv('cars.csv')\n",
        "base.shape"
      ]
    },
    {
      "cell_type": "code",
      "execution_count": null,
      "metadata": {
        "id": "59uIZEiJN_M6"
      },
      "outputs": [],
      "source": [
        "base.head()"
      ]
    },
    {
      "cell_type": "code",
      "execution_count": null,
      "metadata": {
        "id": "36Ayr6MYN_M8"
      },
      "outputs": [],
      "source": [
        "base = base.drop(['Unnamed: 0'], axis = 1)\n",
        "base.head()"
      ]
    },
    {
      "cell_type": "code",
      "execution_count": null,
      "metadata": {
        "id": "Mq_Oc3LDN_M9"
      },
      "outputs": [],
      "source": [
        "# Definição das variáveis X e Y, X distância é a variável independente e Y velocidade é a variável dependente\n",
        "X = base.iloc[:, 1].values\n",
        "y = base.iloc[:, 0].values\n",
        "X"
      ]
    },
    {
      "cell_type": "code",
      "execution_count": null,
      "metadata": {
        "id": "B38AJz6UN_M-"
      },
      "outputs": [],
      "source": [
        "# Cálculo da correlação entre X e Y\n",
        "correlacao = np.corrcoef(X, y)\n",
        "correlacao"
      ]
    },
    {
      "cell_type": "code",
      "execution_count": null,
      "metadata": {
        "id": "jxuXmH2RN_NA"
      },
      "outputs": [],
      "source": [
        "#formato de matriz com uma coluna a mais\n",
        "X = X.reshape(-1, 1) \n",
        "# Criação do modelo e treinamento (fit indica que o treinamento deve ser executado)\n",
        "modelo = LinearRegression()\n",
        "modelo.fit(X, y)"
      ]
    },
    {
      "cell_type": "code",
      "execution_count": null,
      "metadata": {
        "id": "w0I40EEnN_NC"
      },
      "outputs": [],
      "source": [
        "# Visualização dos coeficientes\n",
        "modelo.intercept_"
      ]
    },
    {
      "cell_type": "code",
      "execution_count": null,
      "metadata": {
        "id": "P6HBvzdcN_ND"
      },
      "outputs": [],
      "source": [
        "#inclinacao\n",
        "modelo.coef_"
      ]
    },
    {
      "cell_type": "code",
      "execution_count": null,
      "metadata": {
        "id": "JpMh_6diN_NE"
      },
      "outputs": [],
      "source": [
        "# Geração do gráfico com os pontos reais e as previsões\n",
        "plt.scatter(X, y)\n",
        "plt.plot(X, modelo.predict(X), color = 'red')"
      ]
    },
    {
      "cell_type": "code",
      "execution_count": null,
      "metadata": {
        "id": "NytCjy8uN_NG"
      },
      "outputs": [],
      "source": [
        "# Previsão da \"distância 22 pés\" usando a fórmula manual\n",
        "# interceptação * inclinação * valor de dist\n",
        "#Qual velocidade se levou 22 pés pra parar?\n",
        "modelo.intercept_ + modelo.coef_ * 22"
      ]
    },
    {
      "cell_type": "code",
      "execution_count": null,
      "metadata": {
        "id": "JkKhhGgTN_NJ"
      },
      "outputs": [],
      "source": []
    }
  ],
  "metadata": {
    "jupytext": {
      "cell_metadata_filter": "-all",
      "main_language": "python",
      "notebook_metadata_filter": "-all"
    },
    "kernelspec": {
      "display_name": "Python 3",
      "language": "python",
      "name": "python3"
    },
    "language_info": {
      "codemirror_mode": {
        "name": "ipython",
        "version": 3
      },
      "file_extension": ".py",
      "mimetype": "text/x-python",
      "name": "python",
      "nbconvert_exporter": "python",
      "pygments_lexer": "ipython3",
      "version": "3.7.6"
    },
    "colab": {
      "provenance": [],
      "include_colab_link": true
    }
  },
  "nbformat": 4,
  "nbformat_minor": 0
}