{
  "nbformat": 4,
  "nbformat_minor": 0,
  "metadata": {
    "colab": {
      "provenance": [],
      "include_colab_link": true
    },
    "kernelspec": {
      "name": "python3",
      "display_name": "Python 3"
    },
    "language_info": {
      "name": "python"
    }
  },
  "cells": [
    {
      "cell_type": "markdown",
      "metadata": {
        "id": "view-in-github",
        "colab_type": "text"
      },
      "source": [
        "<a href=\"https://colab.research.google.com/github/WandersonGustavo/Udemy_Data_Science/blob/main/Numpy.ipynb\" target=\"_parent\"><img src=\"https://colab.research.google.com/assets/colab-badge.svg\" alt=\"Open In Colab\"/></a>"
      ]
    },
    {
      "cell_type": "code",
      "execution_count": null,
      "metadata": {
        "id": "PnoLMRYS1boS"
      },
      "outputs": [],
      "source": [
        "import numpy as np"
      ]
    },
    {
      "cell_type": "markdown",
      "source": [
        "*TESTE*"
      ],
      "metadata": {
        "id": "AS0H25sSMMcI"
      }
    },
    {
      "cell_type": "code",
      "source": [
        "data=[10,4.5,8.1,9,7]\n",
        "array=np.array(data)\n",
        "array"
      ],
      "metadata": {
        "colab": {
          "base_uri": "https://localhost:8080/"
        },
        "id": "l3Eh1vzj4Z8B",
        "outputId": "8ecff12d-a36e-472a-b46d-91fee3da2f97"
      },
      "execution_count": null,
      "outputs": [
        {
          "output_type": "execute_result",
          "data": {
            "text/plain": [
              "array([10. ,  4.5,  8.1,  9. ,  7. ])"
            ]
          },
          "metadata": {},
          "execution_count": 2
        }
      ]
    },
    {
      "cell_type": "code",
      "source": [
        "data2=[[1,2,3,4,5],[6,7,8,9,10]]\n",
        "array2=np.array(data2)\n",
        "array2"
      ],
      "metadata": {
        "colab": {
          "base_uri": "https://localhost:8080/"
        },
        "id": "HRLuFO-B5vR4",
        "outputId": "7da938e7-e10e-4d57-c778-6d9a38b39f5d"
      },
      "execution_count": null,
      "outputs": [
        {
          "output_type": "execute_result",
          "data": {
            "text/plain": [
              "array([[ 1,  2,  3,  4,  5],\n",
              "       [ 6,  7,  8,  9, 10]])"
            ]
          },
          "metadata": {},
          "execution_count": 8
        }
      ]
    },
    {
      "cell_type": "code",
      "source": [
        "array2.ndim"
      ],
      "metadata": {
        "colab": {
          "base_uri": "https://localhost:8080/"
        },
        "id": "CZyqA6Po7nYw",
        "outputId": "cefd6701-0dd3-487d-8745-fb6c083b18d8"
      },
      "execution_count": null,
      "outputs": [
        {
          "output_type": "execute_result",
          "data": {
            "text/plain": [
              "2"
            ]
          },
          "metadata": {},
          "execution_count": 9
        }
      ]
    },
    {
      "cell_type": "code",
      "source": [
        "array2.shape"
      ],
      "metadata": {
        "colab": {
          "base_uri": "https://localhost:8080/"
        },
        "id": "zX2FZGy07thj",
        "outputId": "333d64cf-a93e-41d3-c46b-a2ada2e5089c"
      },
      "execution_count": null,
      "outputs": [
        {
          "output_type": "execute_result",
          "data": {
            "text/plain": [
              "(2, 5)"
            ]
          },
          "metadata": {},
          "execution_count": 10
        }
      ]
    },
    {
      "cell_type": "code",
      "source": [
        "array.shape"
      ],
      "metadata": {
        "colab": {
          "base_uri": "https://localhost:8080/"
        },
        "id": "BLjMhwMb74eC",
        "outputId": "67c0c4a5-7ef2-41ea-936b-29ae9676d99a"
      },
      "execution_count": null,
      "outputs": [
        {
          "output_type": "execute_result",
          "data": {
            "text/plain": [
              "(5,)"
            ]
          },
          "metadata": {},
          "execution_count": 11
        }
      ]
    },
    {
      "cell_type": "code",
      "source": [
        "array.size"
      ],
      "metadata": {
        "colab": {
          "base_uri": "https://localhost:8080/"
        },
        "id": "9pfirSUc82Tm",
        "outputId": "3e592c1d-dfd7-4c10-9725-bf5c1da13593"
      },
      "execution_count": null,
      "outputs": [
        {
          "output_type": "execute_result",
          "data": {
            "text/plain": [
              "5"
            ]
          },
          "metadata": {},
          "execution_count": 16
        }
      ]
    },
    {
      "cell_type": "code",
      "source": [
        "array.itemsize"
      ],
      "metadata": {
        "colab": {
          "base_uri": "https://localhost:8080/"
        },
        "id": "I3LA8Sqt9D8r",
        "outputId": "1c19d0f9-82fb-428f-a310-c6f70dca36ab"
      },
      "execution_count": null,
      "outputs": [
        {
          "output_type": "execute_result",
          "data": {
            "text/plain": [
              "8"
            ]
          },
          "metadata": {},
          "execution_count": 17
        }
      ]
    },
    {
      "cell_type": "code",
      "source": [
        "array.ndim"
      ],
      "metadata": {
        "colab": {
          "base_uri": "https://localhost:8080/"
        },
        "id": "l1o_7jfi9NjF",
        "outputId": "790ac3f6-b70b-4c68-f95c-cb04bb7b0566"
      },
      "execution_count": null,
      "outputs": [
        {
          "output_type": "execute_result",
          "data": {
            "text/plain": [
              "1"
            ]
          },
          "metadata": {},
          "execution_count": 18
        }
      ]
    },
    {
      "cell_type": "code",
      "source": [
        "1/array"
      ],
      "metadata": {
        "colab": {
          "base_uri": "https://localhost:8080/"
        },
        "id": "mj_S5gjM9YlD",
        "outputId": "c3846656-35ca-4ac4-de0a-79a932936f5d"
      },
      "execution_count": null,
      "outputs": [
        {
          "output_type": "execute_result",
          "data": {
            "text/plain": [
              "array([0.1       , 0.22222222, 0.12345679, 0.11111111, 0.14285714])"
            ]
          },
          "metadata": {},
          "execution_count": 19
        }
      ]
    },
    {
      "cell_type": "code",
      "source": [
        "array.dot(array)"
      ],
      "metadata": {
        "colab": {
          "base_uri": "https://localhost:8080/"
        },
        "id": "e-hZR-Z99jWP",
        "outputId": "c2995ff0-4a9f-4812-a441-ebf5c0c9df99"
      },
      "execution_count": null,
      "outputs": [
        {
          "output_type": "execute_result",
          "data": {
            "text/plain": [
              "315.86"
            ]
          },
          "metadata": {},
          "execution_count": 20
        }
      ]
    },
    {
      "cell_type": "code",
      "source": [
        "array.astype(np.int32)"
      ],
      "metadata": {
        "id": "LvlOam8I--kp",
        "colab": {
          "base_uri": "https://localhost:8080/"
        },
        "outputId": "bb9df157-087e-418e-ec00-743f58f55736"
      },
      "execution_count": null,
      "outputs": [
        {
          "output_type": "execute_result",
          "data": {
            "text/plain": [
              "array([10,  4,  8,  9,  7], dtype=int32)"
            ]
          },
          "metadata": {},
          "execution_count": 3
        }
      ]
    },
    {
      "cell_type": "code",
      "source": [
        "r = np.random.rand(3, 3)\n",
        "r"
      ],
      "metadata": {
        "colab": {
          "base_uri": "https://localhost:8080/"
        },
        "id": "M5XQKuahCziG",
        "outputId": "9e6e7bb3-9e57-43c0-8ead-2e79dcbc3051"
      },
      "execution_count": null,
      "outputs": [
        {
          "output_type": "execute_result",
          "data": {
            "text/plain": [
              "array([[0.98885452, 0.00671013, 0.60694694],\n",
              "       [0.72450277, 0.52006335, 0.16143731],\n",
              "       [0.96119056, 0.59723861, 0.37584569]])"
            ]
          },
          "metadata": {},
          "execution_count": 42
        }
      ]
    },
    {
      "cell_type": "code",
      "source": [
        "np.zeros(10)"
      ],
      "metadata": {
        "colab": {
          "base_uri": "https://localhost:8080/"
        },
        "id": "AA43Q4Jw8JP1",
        "outputId": "a12f24b7-e93c-4369-8ad9-ef77913b9242"
      },
      "execution_count": null,
      "outputs": [
        {
          "output_type": "execute_result",
          "data": {
            "text/plain": [
              "array([0., 0., 0., 0., 0., 0., 0., 0., 0., 0.])"
            ]
          },
          "metadata": {},
          "execution_count": 14
        }
      ]
    },
    {
      "cell_type": "code",
      "source": [
        "np.zeros((3,6))"
      ],
      "metadata": {
        "colab": {
          "base_uri": "https://localhost:8080/"
        },
        "id": "XpS9tSbs8RbT",
        "outputId": "c6935581-1ddd-466f-8bde-debd89047faf"
      },
      "execution_count": null,
      "outputs": [
        {
          "output_type": "execute_result",
          "data": {
            "text/plain": [
              "array([[0., 0., 0., 0., 0., 0.],\n",
              "       [0., 0., 0., 0., 0., 0.],\n",
              "       [0., 0., 0., 0., 0., 0.]])"
            ]
          },
          "metadata": {},
          "execution_count": 15
        }
      ]
    },
    {
      "cell_type": "code",
      "source": [
        "np.ones(10)"
      ],
      "metadata": {
        "colab": {
          "base_uri": "https://localhost:8080/"
        },
        "id": "nzTZ6ypf-JGr",
        "outputId": "bf93f91a-4ef2-47e5-f16a-d1e05b61fd3f"
      },
      "execution_count": null,
      "outputs": [
        {
          "output_type": "execute_result",
          "data": {
            "text/plain": [
              "array([1., 1., 1., 1., 1., 1., 1., 1., 1., 1.])"
            ]
          },
          "metadata": {},
          "execution_count": 21
        }
      ]
    },
    {
      "cell_type": "code",
      "source": [
        "np.arange(15)"
      ],
      "metadata": {
        "colab": {
          "base_uri": "https://localhost:8080/"
        },
        "id": "zWxA3AEk-he3",
        "outputId": "5eb781e4-4883-4833-dfef-3eaedcea50d2"
      },
      "execution_count": null,
      "outputs": [
        {
          "output_type": "execute_result",
          "data": {
            "text/plain": [
              "array([ 0,  1,  2,  3,  4,  5,  6,  7,  8,  9, 10, 11, 12, 13, 14])"
            ]
          },
          "metadata": {},
          "execution_count": 22
        }
      ]
    },
    {
      "cell_type": "markdown",
      "source": [
        "**Indexação e fatiamento: modos com os quais você pode querer selecionar um subconjunto de seus dados**"
      ],
      "metadata": {
        "id": "2zEJk0rr_jgt"
      }
    },
    {
      "cell_type": "code",
      "source": [
        "array = np.arange(10)\n",
        "array\n"
      ],
      "metadata": {
        "colab": {
          "base_uri": "https://localhost:8080/"
        },
        "id": "FsaRmF1S_izS",
        "outputId": "106e651e-7281-45cc-877f-1cb43340d2d5"
      },
      "execution_count": null,
      "outputs": [
        {
          "output_type": "execute_result",
          "data": {
            "text/plain": [
              "array([0, 1, 2, 3, 4, 5, 6, 7, 8, 9])"
            ]
          },
          "metadata": {},
          "execution_count": 4
        }
      ]
    },
    {
      "cell_type": "code",
      "source": [
        "array[5]"
      ],
      "metadata": {
        "colab": {
          "base_uri": "https://localhost:8080/"
        },
        "id": "oouagsndACJe",
        "outputId": "497945b0-8ab3-42ab-a506-f9a55d48faad"
      },
      "execution_count": null,
      "outputs": [
        {
          "output_type": "execute_result",
          "data": {
            "text/plain": [
              "5"
            ]
          },
          "metadata": {},
          "execution_count": 28
        }
      ]
    },
    {
      "cell_type": "code",
      "source": [
        "array[2:6]"
      ],
      "metadata": {
        "colab": {
          "base_uri": "https://localhost:8080/"
        },
        "id": "0nYvtIT4_4Y3",
        "outputId": "c4b64dd3-fc02-4532-893f-c0e6f1fd63d3"
      },
      "execution_count": null,
      "outputs": [
        {
          "output_type": "execute_result",
          "data": {
            "text/plain": [
              "array([2, 3, 4, 5])"
            ]
          },
          "metadata": {},
          "execution_count": 25
        }
      ]
    },
    {
      "cell_type": "code",
      "source": [
        "array[-1]"
      ],
      "metadata": {
        "colab": {
          "base_uri": "https://localhost:8080/"
        },
        "id": "LQGMlGYhAZFk",
        "outputId": "a7cfaaf9-26e9-4109-efd2-08bf32dd1293"
      },
      "execution_count": null,
      "outputs": [
        {
          "output_type": "execute_result",
          "data": {
            "text/plain": [
              "9"
            ]
          },
          "metadata": {},
          "execution_count": 29
        }
      ]
    },
    {
      "cell_type": "code",
      "source": [
        "array[1:-1]"
      ],
      "metadata": {
        "colab": {
          "base_uri": "https://localhost:8080/"
        },
        "id": "-SZbdf8kAgZK",
        "outputId": "c2d9aeb2-8ad2-4185-b47b-098dbb53ae8a"
      },
      "execution_count": null,
      "outputs": [
        {
          "output_type": "execute_result",
          "data": {
            "text/plain": [
              "array([1, 2, 3, 4, 5, 6, 7, 8])"
            ]
          },
          "metadata": {},
          "execution_count": 30
        }
      ]
    },
    {
      "cell_type": "code",
      "source": [
        "array[1:]"
      ],
      "metadata": {
        "colab": {
          "base_uri": "https://localhost:8080/"
        },
        "id": "XncPCwFYAndT",
        "outputId": "32195b2d-6159-4941-ee15-19c31db97319"
      },
      "execution_count": null,
      "outputs": [
        {
          "output_type": "execute_result",
          "data": {
            "text/plain": [
              "array([1, 2, 3, 4, 5, 6, 7, 8, 9])"
            ]
          },
          "metadata": {},
          "execution_count": 31
        }
      ]
    },
    {
      "cell_type": "code",
      "source": [
        "array[::2]"
      ],
      "metadata": {
        "colab": {
          "base_uri": "https://localhost:8080/"
        },
        "id": "qlMy6ov3Au1Y",
        "outputId": "adf4732c-0bff-472d-fb23-47368abee715"
      },
      "execution_count": null,
      "outputs": [
        {
          "output_type": "execute_result",
          "data": {
            "text/plain": [
              "array([0, 2, 4, 6, 8])"
            ]
          },
          "metadata": {},
          "execution_count": 32
        }
      ]
    },
    {
      "cell_type": "code",
      "source": [
        "array[::-1]"
      ],
      "metadata": {
        "colab": {
          "base_uri": "https://localhost:8080/"
        },
        "id": "Sw3xVaWSA6-S",
        "outputId": "d8bc000f-a6ab-4c0a-af44-984a5c900063"
      },
      "execution_count": null,
      "outputs": [
        {
          "output_type": "execute_result",
          "data": {
            "text/plain": [
              "array([9, 8, 7, 6, 5, 4, 3, 2, 1, 0])"
            ]
          },
          "metadata": {},
          "execution_count": 33
        }
      ]
    },
    {
      "cell_type": "code",
      "source": [
        "X = np.arange(1000).reshape((10,100)) \n",
        "#X[0:4,7:10]\n"
      ],
      "metadata": {
        "id": "4Vrvg1Wdf29U"
      },
      "execution_count": null,
      "outputs": []
    },
    {
      "cell_type": "code",
      "source": [
        "X[np.array([3,4])]"
      ],
      "metadata": {
        "colab": {
          "base_uri": "https://localhost:8080/"
        },
        "id": "2f_g2vgiiRwf",
        "outputId": "60597713-8cd9-4f66-9486-9f0cdc38efa4"
      },
      "execution_count": null,
      "outputs": [
        {
          "output_type": "execute_result",
          "data": {
            "text/plain": [
              "array([[300, 301, 302, 303, 304, 305, 306, 307, 308, 309, 310, 311, 312,\n",
              "        313, 314, 315, 316, 317, 318, 319, 320, 321, 322, 323, 324, 325,\n",
              "        326, 327, 328, 329, 330, 331, 332, 333, 334, 335, 336, 337, 338,\n",
              "        339, 340, 341, 342, 343, 344, 345, 346, 347, 348, 349, 350, 351,\n",
              "        352, 353, 354, 355, 356, 357, 358, 359, 360, 361, 362, 363, 364,\n",
              "        365, 366, 367, 368, 369, 370, 371, 372, 373, 374, 375, 376, 377,\n",
              "        378, 379, 380, 381, 382, 383, 384, 385, 386, 387, 388, 389, 390,\n",
              "        391, 392, 393, 394, 395, 396, 397, 398, 399],\n",
              "       [400, 401, 402, 403, 404, 405, 406, 407, 408, 409, 410, 411, 412,\n",
              "        413, 414, 415, 416, 417, 418, 419, 420, 421, 422, 423, 424, 425,\n",
              "        426, 427, 428, 429, 430, 431, 432, 433, 434, 435, 436, 437, 438,\n",
              "        439, 440, 441, 442, 443, 444, 445, 446, 447, 448, 449, 450, 451,\n",
              "        452, 453, 454, 455, 456, 457, 458, 459, 460, 461, 462, 463, 464,\n",
              "        465, 466, 467, 468, 469, 470, 471, 472, 473, 474, 475, 476, 477,\n",
              "        478, 479, 480, 481, 482, 483, 484, 485, 486, 487, 488, 489, 490,\n",
              "        491, 492, 493, 494, 495, 496, 497, 498, 499]])"
            ]
          },
          "metadata": {},
          "execution_count": 32
        }
      ]
    },
    {
      "cell_type": "code",
      "source": [
        "X[np.array([3,4]), np.array([11,12]) ] "
      ],
      "metadata": {
        "colab": {
          "base_uri": "https://localhost:8080/"
        },
        "id": "TfBKA06tgmqq",
        "outputId": "7e907f3d-55f7-4560-8594-2cf9d0721a72"
      },
      "execution_count": null,
      "outputs": [
        {
          "output_type": "execute_result",
          "data": {
            "text/plain": [
              "array([311, 412])"
            ]
          },
          "metadata": {},
          "execution_count": 6
        }
      ]
    },
    {
      "cell_type": "code",
      "source": [
        "cubo = np.array([[[1,4,7],[3,5,2]],[[5,6,0],[7,4,1]],[[2,8,8],[0,3,6]]])\n",
        "print('Array tridimensional:\\n ', cubo)\n"
      ],
      "metadata": {
        "colab": {
          "base_uri": "https://localhost:8080/"
        },
        "id": "0XAzQMAYBHM2",
        "outputId": "b6ae07a1-b3d0-4534-9dbd-53c5d9275042"
      },
      "execution_count": null,
      "outputs": [
        {
          "output_type": "stream",
          "name": "stdout",
          "text": [
            "Array tridimensional:\n",
            "  [[[1 4 7]\n",
            "  [3 5 2]]\n",
            "\n",
            " [[5 6 0]\n",
            "  [7 4 1]]\n",
            "\n",
            " [[2 8 8]\n",
            "  [0 3 6]]]\n"
          ]
        }
      ]
    },
    {
      "cell_type": "code",
      "source": [
        "y =  np.array([[1,2,3,4],[12,45,88,54]])\n",
        "y"
      ],
      "metadata": {
        "colab": {
          "base_uri": "https://localhost:8080/"
        },
        "id": "tTT1sv8SB6iC",
        "outputId": "89ddcaf8-5649-4fbd-fdc2-0df84ca25590"
      },
      "execution_count": null,
      "outputs": [
        {
          "output_type": "execute_result",
          "data": {
            "text/plain": [
              "array([[ 1,  2,  3,  4],\n",
              "       [12, 45, 88, 54]])"
            ]
          },
          "metadata": {},
          "execution_count": 9
        }
      ]
    },
    {
      "cell_type": "code",
      "source": [
        "y.shape"
      ],
      "metadata": {
        "colab": {
          "base_uri": "https://localhost:8080/"
        },
        "id": "WxjbZLg-N7rn",
        "outputId": "ce9a5f36-3948-43a8-af9b-f34df2bfe217"
      },
      "execution_count": null,
      "outputs": [
        {
          "output_type": "execute_result",
          "data": {
            "text/plain": [
              "(2, 4)"
            ]
          },
          "metadata": {},
          "execution_count": 10
        }
      ]
    },
    {
      "cell_type": "code",
      "source": [
        "np.transpose(y)"
      ],
      "metadata": {
        "colab": {
          "base_uri": "https://localhost:8080/"
        },
        "id": "WO4LkomYCK5t",
        "outputId": "af71a26f-70cc-45a5-a411-daab9e5171ad"
      },
      "execution_count": null,
      "outputs": [
        {
          "output_type": "execute_result",
          "data": {
            "text/plain": [
              "array([[ 1, 12],\n",
              "       [ 2, 45],\n",
              "       [ 3, 88],\n",
              "       [ 4, 54]])"
            ]
          },
          "metadata": {},
          "execution_count": 40
        }
      ]
    },
    {
      "cell_type": "code",
      "source": [
        "y.flatten()"
      ],
      "metadata": {
        "colab": {
          "base_uri": "https://localhost:8080/"
        },
        "id": "jIdkRefRCbCN",
        "outputId": "36292f97-7f16-433f-9ce5-bb5f4decbf10"
      },
      "execution_count": null,
      "outputs": [
        {
          "output_type": "execute_result",
          "data": {
            "text/plain": [
              "array([ 1,  2,  3,  4, 12, 45, 88, 54])"
            ]
          },
          "metadata": {},
          "execution_count": 41
        }
      ]
    },
    {
      "cell_type": "code",
      "source": [
        "y.reshape(2,4)"
      ],
      "metadata": {
        "colab": {
          "base_uri": "https://localhost:8080/"
        },
        "id": "8Cod8r7IeNuQ",
        "outputId": "d214f5b0-c554-437d-8aff-e0acd9a723c3"
      },
      "execution_count": null,
      "outputs": [
        {
          "output_type": "execute_result",
          "data": {
            "text/plain": [
              "array([[ 1,  2,  3,  4],\n",
              "       [12, 45, 88, 54]])"
            ]
          },
          "metadata": {},
          "execution_count": 7
        }
      ]
    },
    {
      "cell_type": "code",
      "source": [
        "a = np.array([1,2,3])\n",
        "b = np.array([1,4,3])\n",
        "a==b"
      ],
      "metadata": {
        "colab": {
          "base_uri": "https://localhost:8080/"
        },
        "id": "eKP0zm5efeok",
        "outputId": "aae5e3ce-1d7a-45b3-a40e-785d6aa39c06"
      },
      "execution_count": null,
      "outputs": [
        {
          "output_type": "execute_result",
          "data": {
            "text/plain": [
              "array([ True, False,  True])"
            ]
          },
          "metadata": {},
          "execution_count": 12
        }
      ]
    },
    {
      "cell_type": "code",
      "source": [
        "np.greater(a,b)"
      ],
      "metadata": {
        "colab": {
          "base_uri": "https://localhost:8080/"
        },
        "id": "5zgkqD69fkHh",
        "outputId": "1611ee7c-06d5-4d0d-ffb0-2d000ab38633"
      },
      "execution_count": null,
      "outputs": [
        {
          "output_type": "execute_result",
          "data": {
            "text/plain": [
              "array([False, False, False])"
            ]
          },
          "metadata": {},
          "execution_count": 13
        }
      ]
    },
    {
      "cell_type": "code",
      "source": [
        "import numpy as np \n",
        "       \n",
        "# 2D   \n",
        "arr = [[14, 17, 12, 33, 44],   \n",
        "       [15, 6, 27, 8, 19],  \n",
        "       [23, 2, 54, 1, 4,]]  \n",
        "   \n",
        "print(\"\\nSoma do array : \", np.sum(arr)) \n",
        "print(\"Soma do array(axis = 0) : \", np.sum(arr, axis = 0)) \n",
        "#print(\"Soma do array(axis = 1) : \", np.sum(arr, axis = 1))\n",
        "  \n",
        "print(\"\\nSoma do array (keepdims is True): \\n\",\n",
        "      np.sum(arr, axis = 0, keepdims = True))"
      ],
      "metadata": {
        "colab": {
          "base_uri": "https://localhost:8080/"
        },
        "id": "jNsdarNaOnn4",
        "outputId": "77cbe6b8-1310-4255-eba0-e9fa08f1a573"
      },
      "execution_count": null,
      "outputs": [
        {
          "output_type": "stream",
          "name": "stdout",
          "text": [
            "\n",
            "Soma do array :  279\n",
            "Soma do array(axis = 0) :  [52 25 93 42 67]\n",
            "\n",
            "Soma do array (keepdims is True): \n",
            " [[52 25 93 42 67]]\n"
          ]
        }
      ]
    }
  ]
}