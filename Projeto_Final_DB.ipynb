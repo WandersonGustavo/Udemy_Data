{
  "nbformat": 4,
  "nbformat_minor": 0,
  "metadata": {
    "colab": {
      "provenance": [],
      "authorship_tag": "ABX9TyNxmBGjJubQJnQeJ6TGz8lL",
      "include_colab_link": true
    },
    "kernelspec": {
      "name": "python3",
      "display_name": "Python 3"
    },
    "language_info": {
      "name": "python"
    }
  },
  "cells": [
    {
      "cell_type": "markdown",
      "metadata": {
        "id": "view-in-github",
        "colab_type": "text"
      },
      "source": [
        "<a href=\"https://colab.research.google.com/github/WandersonGustavo/Udemy_Data_Science/blob/main/Projeto_Final_DB.ipynb\" target=\"_parent\"><img src=\"https://colab.research.google.com/assets/colab-badge.svg\" alt=\"Open In Colab\"/></a>"
      ]
    },
    {
      "cell_type": "code",
      "execution_count": null,
      "metadata": {
        "id": "ca-ROs43KbdK"
      },
      "outputs": [],
      "source": [
        "#Projeto final :objetivo tratar e modelar  base de dados de um db postgres de uma empresa a fim de prever inadimplência dos clientes e reduzir de 35 para 20%"
      ]
    },
    {
      "cell_type": "code",
      "source": [
        "import pandas as pd \n",
        "import numpy as np\n",
        "import matplotlib.pyplot as plt\n",
        "from scipy import stats\n",
        "from sklearn.linear_model import LinearRegression\n",
        "from datetime import datetime\n",
        "import seaborn as srn\n",
        "import statistics as sts\n",
        "#registro de converters para uso do matplotlib\n",
        "from pandas.plotting import register_matplotlib_converters\n",
        "register_matplotlib_converters()\n",
        "from sklearn.cluster import KMeans\n",
        "from sklearn.metrics import confusion_matrix"
      ],
      "metadata": {
        "id": "s0vorIQdLGWM"
      },
      "execution_count": null,
      "outputs": []
    },
    {
      "cell_type": "code",
      "source": [
        "base=pd.read_csv('Credit.csv')\n",
        "base"
      ],
      "metadata": {
        "colab": {
          "base_uri": "https://localhost:8080/",
          "height": 609
        },
        "id": "wARTiEQiV0wM",
        "outputId": "46744e05-6d0f-4ec4-dd8c-4e0e4d50fdfa"
      },
      "execution_count": null,
      "outputs": [
        {
          "output_type": "execute_result",
          "data": {
            "text/plain": [
              "    checking_status  duration                    credit_history  \\\n",
              "0                <0         6  'critical/other existing credit'   \n",
              "1          0<=X<200        48                   'existing paid'   \n",
              "2     'no checking'        12  'critical/other existing credit'   \n",
              "3                <0        42                   'existing paid'   \n",
              "4                <0        24              'delayed previously'   \n",
              "..              ...       ...                               ...   \n",
              "995   'no checking'        12                   'existing paid'   \n",
              "996              <0        30                   'existing paid'   \n",
              "997   'no checking'        12                   'existing paid'   \n",
              "998              <0        45                   'existing paid'   \n",
              "999        0<=X<200        45  'critical/other existing credit'   \n",
              "\n",
              "                 purpose  credit_amount      savings_status  employment  \\\n",
              "0               radio/tv           1169  'no known savings'         >=7   \n",
              "1               radio/tv           5951                <100      1<=X<4   \n",
              "2              education           2096                <100      4<=X<7   \n",
              "3    furniture/equipment           7882                <100      4<=X<7   \n",
              "4              'new car'           4870                <100      1<=X<4   \n",
              "..                   ...            ...                 ...         ...   \n",
              "995  furniture/equipment           1736                <100      4<=X<7   \n",
              "996           'used car'           3857                <100      1<=X<4   \n",
              "997             radio/tv            804                <100         >=7   \n",
              "998             radio/tv           1845                <100      1<=X<4   \n",
              "999           'used car'           4576          100<=X<500  unemployed   \n",
              "\n",
              "     installment_commitment       personal_status other_parties  ...  \\\n",
              "0                         4         'male single'          none  ...   \n",
              "1                         2  'female div/dep/mar'          none  ...   \n",
              "2                         2         'male single'          none  ...   \n",
              "3                         2         'male single'     guarantor  ...   \n",
              "4                         3         'male single'          none  ...   \n",
              "..                      ...                   ...           ...  ...   \n",
              "995                       3  'female div/dep/mar'          none  ...   \n",
              "996                       4        'male div/sep'          none  ...   \n",
              "997                       4         'male single'          none  ...   \n",
              "998                       4         'male single'          none  ...   \n",
              "999                       3         'male single'          none  ...   \n",
              "\n",
              "      property_magnitude age  other_payment_plans     housing  \\\n",
              "0          'real estate'  67                 none         own   \n",
              "1          'real estate'  22                 none         own   \n",
              "2          'real estate'  49                 none         own   \n",
              "3       'life insurance'  45                 none  'for free'   \n",
              "4    'no known property'  53                 none  'for free'   \n",
              "..                   ...  ..                  ...         ...   \n",
              "995        'real estate'  31                 none         own   \n",
              "996     'life insurance'  40                 none         own   \n",
              "997                  car  38                 none         own   \n",
              "998  'no known property'  23                 none  'for free'   \n",
              "999                  car  27                 none         own   \n",
              "\n",
              "    existing_credits                          job num_dependents  \\\n",
              "0                  2                      skilled              1   \n",
              "1                  1                      skilled              1   \n",
              "2                  1         'unskilled resident'              2   \n",
              "3                  1                      skilled              2   \n",
              "4                  2                      skilled              2   \n",
              "..               ...                          ...            ...   \n",
              "995                1         'unskilled resident'              1   \n",
              "996                1  'high qualif/self emp/mgmt'              1   \n",
              "997                1                      skilled              1   \n",
              "998                1                      skilled              1   \n",
              "999                1                      skilled              1   \n",
              "\n",
              "     own_telephone foreign_worker class  \n",
              "0              yes            yes  good  \n",
              "1             none            yes   bad  \n",
              "2             none            yes  good  \n",
              "3             none            yes  good  \n",
              "4             none            yes   bad  \n",
              "..             ...            ...   ...  \n",
              "995           none            yes  good  \n",
              "996            yes            yes  good  \n",
              "997           none            yes  good  \n",
              "998            yes            yes   bad  \n",
              "999           none            yes  good  \n",
              "\n",
              "[1000 rows x 21 columns]"
            ],
            "text/html": [
              "\n",
              "  <div id=\"df-39c8979f-a8f4-44a9-ac10-28d9d13d28cc\">\n",
              "    <div class=\"colab-df-container\">\n",
              "      <div>\n",
              "<style scoped>\n",
              "    .dataframe tbody tr th:only-of-type {\n",
              "        vertical-align: middle;\n",
              "    }\n",
              "\n",
              "    .dataframe tbody tr th {\n",
              "        vertical-align: top;\n",
              "    }\n",
              "\n",
              "    .dataframe thead th {\n",
              "        text-align: right;\n",
              "    }\n",
              "</style>\n",
              "<table border=\"1\" class=\"dataframe\">\n",
              "  <thead>\n",
              "    <tr style=\"text-align: right;\">\n",
              "      <th></th>\n",
              "      <th>checking_status</th>\n",
              "      <th>duration</th>\n",
              "      <th>credit_history</th>\n",
              "      <th>purpose</th>\n",
              "      <th>credit_amount</th>\n",
              "      <th>savings_status</th>\n",
              "      <th>employment</th>\n",
              "      <th>installment_commitment</th>\n",
              "      <th>personal_status</th>\n",
              "      <th>other_parties</th>\n",
              "      <th>...</th>\n",
              "      <th>property_magnitude</th>\n",
              "      <th>age</th>\n",
              "      <th>other_payment_plans</th>\n",
              "      <th>housing</th>\n",
              "      <th>existing_credits</th>\n",
              "      <th>job</th>\n",
              "      <th>num_dependents</th>\n",
              "      <th>own_telephone</th>\n",
              "      <th>foreign_worker</th>\n",
              "      <th>class</th>\n",
              "    </tr>\n",
              "  </thead>\n",
              "  <tbody>\n",
              "    <tr>\n",
              "      <th>0</th>\n",
              "      <td>&lt;0</td>\n",
              "      <td>6</td>\n",
              "      <td>'critical/other existing credit'</td>\n",
              "      <td>radio/tv</td>\n",
              "      <td>1169</td>\n",
              "      <td>'no known savings'</td>\n",
              "      <td>&gt;=7</td>\n",
              "      <td>4</td>\n",
              "      <td>'male single'</td>\n",
              "      <td>none</td>\n",
              "      <td>...</td>\n",
              "      <td>'real estate'</td>\n",
              "      <td>67</td>\n",
              "      <td>none</td>\n",
              "      <td>own</td>\n",
              "      <td>2</td>\n",
              "      <td>skilled</td>\n",
              "      <td>1</td>\n",
              "      <td>yes</td>\n",
              "      <td>yes</td>\n",
              "      <td>good</td>\n",
              "    </tr>\n",
              "    <tr>\n",
              "      <th>1</th>\n",
              "      <td>0&lt;=X&lt;200</td>\n",
              "      <td>48</td>\n",
              "      <td>'existing paid'</td>\n",
              "      <td>radio/tv</td>\n",
              "      <td>5951</td>\n",
              "      <td>&lt;100</td>\n",
              "      <td>1&lt;=X&lt;4</td>\n",
              "      <td>2</td>\n",
              "      <td>'female div/dep/mar'</td>\n",
              "      <td>none</td>\n",
              "      <td>...</td>\n",
              "      <td>'real estate'</td>\n",
              "      <td>22</td>\n",
              "      <td>none</td>\n",
              "      <td>own</td>\n",
              "      <td>1</td>\n",
              "      <td>skilled</td>\n",
              "      <td>1</td>\n",
              "      <td>none</td>\n",
              "      <td>yes</td>\n",
              "      <td>bad</td>\n",
              "    </tr>\n",
              "    <tr>\n",
              "      <th>2</th>\n",
              "      <td>'no checking'</td>\n",
              "      <td>12</td>\n",
              "      <td>'critical/other existing credit'</td>\n",
              "      <td>education</td>\n",
              "      <td>2096</td>\n",
              "      <td>&lt;100</td>\n",
              "      <td>4&lt;=X&lt;7</td>\n",
              "      <td>2</td>\n",
              "      <td>'male single'</td>\n",
              "      <td>none</td>\n",
              "      <td>...</td>\n",
              "      <td>'real estate'</td>\n",
              "      <td>49</td>\n",
              "      <td>none</td>\n",
              "      <td>own</td>\n",
              "      <td>1</td>\n",
              "      <td>'unskilled resident'</td>\n",
              "      <td>2</td>\n",
              "      <td>none</td>\n",
              "      <td>yes</td>\n",
              "      <td>good</td>\n",
              "    </tr>\n",
              "    <tr>\n",
              "      <th>3</th>\n",
              "      <td>&lt;0</td>\n",
              "      <td>42</td>\n",
              "      <td>'existing paid'</td>\n",
              "      <td>furniture/equipment</td>\n",
              "      <td>7882</td>\n",
              "      <td>&lt;100</td>\n",
              "      <td>4&lt;=X&lt;7</td>\n",
              "      <td>2</td>\n",
              "      <td>'male single'</td>\n",
              "      <td>guarantor</td>\n",
              "      <td>...</td>\n",
              "      <td>'life insurance'</td>\n",
              "      <td>45</td>\n",
              "      <td>none</td>\n",
              "      <td>'for free'</td>\n",
              "      <td>1</td>\n",
              "      <td>skilled</td>\n",
              "      <td>2</td>\n",
              "      <td>none</td>\n",
              "      <td>yes</td>\n",
              "      <td>good</td>\n",
              "    </tr>\n",
              "    <tr>\n",
              "      <th>4</th>\n",
              "      <td>&lt;0</td>\n",
              "      <td>24</td>\n",
              "      <td>'delayed previously'</td>\n",
              "      <td>'new car'</td>\n",
              "      <td>4870</td>\n",
              "      <td>&lt;100</td>\n",
              "      <td>1&lt;=X&lt;4</td>\n",
              "      <td>3</td>\n",
              "      <td>'male single'</td>\n",
              "      <td>none</td>\n",
              "      <td>...</td>\n",
              "      <td>'no known property'</td>\n",
              "      <td>53</td>\n",
              "      <td>none</td>\n",
              "      <td>'for free'</td>\n",
              "      <td>2</td>\n",
              "      <td>skilled</td>\n",
              "      <td>2</td>\n",
              "      <td>none</td>\n",
              "      <td>yes</td>\n",
              "      <td>bad</td>\n",
              "    </tr>\n",
              "    <tr>\n",
              "      <th>...</th>\n",
              "      <td>...</td>\n",
              "      <td>...</td>\n",
              "      <td>...</td>\n",
              "      <td>...</td>\n",
              "      <td>...</td>\n",
              "      <td>...</td>\n",
              "      <td>...</td>\n",
              "      <td>...</td>\n",
              "      <td>...</td>\n",
              "      <td>...</td>\n",
              "      <td>...</td>\n",
              "      <td>...</td>\n",
              "      <td>...</td>\n",
              "      <td>...</td>\n",
              "      <td>...</td>\n",
              "      <td>...</td>\n",
              "      <td>...</td>\n",
              "      <td>...</td>\n",
              "      <td>...</td>\n",
              "      <td>...</td>\n",
              "      <td>...</td>\n",
              "    </tr>\n",
              "    <tr>\n",
              "      <th>995</th>\n",
              "      <td>'no checking'</td>\n",
              "      <td>12</td>\n",
              "      <td>'existing paid'</td>\n",
              "      <td>furniture/equipment</td>\n",
              "      <td>1736</td>\n",
              "      <td>&lt;100</td>\n",
              "      <td>4&lt;=X&lt;7</td>\n",
              "      <td>3</td>\n",
              "      <td>'female div/dep/mar'</td>\n",
              "      <td>none</td>\n",
              "      <td>...</td>\n",
              "      <td>'real estate'</td>\n",
              "      <td>31</td>\n",
              "      <td>none</td>\n",
              "      <td>own</td>\n",
              "      <td>1</td>\n",
              "      <td>'unskilled resident'</td>\n",
              "      <td>1</td>\n",
              "      <td>none</td>\n",
              "      <td>yes</td>\n",
              "      <td>good</td>\n",
              "    </tr>\n",
              "    <tr>\n",
              "      <th>996</th>\n",
              "      <td>&lt;0</td>\n",
              "      <td>30</td>\n",
              "      <td>'existing paid'</td>\n",
              "      <td>'used car'</td>\n",
              "      <td>3857</td>\n",
              "      <td>&lt;100</td>\n",
              "      <td>1&lt;=X&lt;4</td>\n",
              "      <td>4</td>\n",
              "      <td>'male div/sep'</td>\n",
              "      <td>none</td>\n",
              "      <td>...</td>\n",
              "      <td>'life insurance'</td>\n",
              "      <td>40</td>\n",
              "      <td>none</td>\n",
              "      <td>own</td>\n",
              "      <td>1</td>\n",
              "      <td>'high qualif/self emp/mgmt'</td>\n",
              "      <td>1</td>\n",
              "      <td>yes</td>\n",
              "      <td>yes</td>\n",
              "      <td>good</td>\n",
              "    </tr>\n",
              "    <tr>\n",
              "      <th>997</th>\n",
              "      <td>'no checking'</td>\n",
              "      <td>12</td>\n",
              "      <td>'existing paid'</td>\n",
              "      <td>radio/tv</td>\n",
              "      <td>804</td>\n",
              "      <td>&lt;100</td>\n",
              "      <td>&gt;=7</td>\n",
              "      <td>4</td>\n",
              "      <td>'male single'</td>\n",
              "      <td>none</td>\n",
              "      <td>...</td>\n",
              "      <td>car</td>\n",
              "      <td>38</td>\n",
              "      <td>none</td>\n",
              "      <td>own</td>\n",
              "      <td>1</td>\n",
              "      <td>skilled</td>\n",
              "      <td>1</td>\n",
              "      <td>none</td>\n",
              "      <td>yes</td>\n",
              "      <td>good</td>\n",
              "    </tr>\n",
              "    <tr>\n",
              "      <th>998</th>\n",
              "      <td>&lt;0</td>\n",
              "      <td>45</td>\n",
              "      <td>'existing paid'</td>\n",
              "      <td>radio/tv</td>\n",
              "      <td>1845</td>\n",
              "      <td>&lt;100</td>\n",
              "      <td>1&lt;=X&lt;4</td>\n",
              "      <td>4</td>\n",
              "      <td>'male single'</td>\n",
              "      <td>none</td>\n",
              "      <td>...</td>\n",
              "      <td>'no known property'</td>\n",
              "      <td>23</td>\n",
              "      <td>none</td>\n",
              "      <td>'for free'</td>\n",
              "      <td>1</td>\n",
              "      <td>skilled</td>\n",
              "      <td>1</td>\n",
              "      <td>yes</td>\n",
              "      <td>yes</td>\n",
              "      <td>bad</td>\n",
              "    </tr>\n",
              "    <tr>\n",
              "      <th>999</th>\n",
              "      <td>0&lt;=X&lt;200</td>\n",
              "      <td>45</td>\n",
              "      <td>'critical/other existing credit'</td>\n",
              "      <td>'used car'</td>\n",
              "      <td>4576</td>\n",
              "      <td>100&lt;=X&lt;500</td>\n",
              "      <td>unemployed</td>\n",
              "      <td>3</td>\n",
              "      <td>'male single'</td>\n",
              "      <td>none</td>\n",
              "      <td>...</td>\n",
              "      <td>car</td>\n",
              "      <td>27</td>\n",
              "      <td>none</td>\n",
              "      <td>own</td>\n",
              "      <td>1</td>\n",
              "      <td>skilled</td>\n",
              "      <td>1</td>\n",
              "      <td>none</td>\n",
              "      <td>yes</td>\n",
              "      <td>good</td>\n",
              "    </tr>\n",
              "  </tbody>\n",
              "</table>\n",
              "<p>1000 rows × 21 columns</p>\n",
              "</div>\n",
              "      <button class=\"colab-df-convert\" onclick=\"convertToInteractive('df-39c8979f-a8f4-44a9-ac10-28d9d13d28cc')\"\n",
              "              title=\"Convert this dataframe to an interactive table.\"\n",
              "              style=\"display:none;\">\n",
              "        \n",
              "  <svg xmlns=\"http://www.w3.org/2000/svg\" height=\"24px\"viewBox=\"0 0 24 24\"\n",
              "       width=\"24px\">\n",
              "    <path d=\"M0 0h24v24H0V0z\" fill=\"none\"/>\n",
              "    <path d=\"M18.56 5.44l.94 2.06.94-2.06 2.06-.94-2.06-.94-.94-2.06-.94 2.06-2.06.94zm-11 1L8.5 8.5l.94-2.06 2.06-.94-2.06-.94L8.5 2.5l-.94 2.06-2.06.94zm10 10l.94 2.06.94-2.06 2.06-.94-2.06-.94-.94-2.06-.94 2.06-2.06.94z\"/><path d=\"M17.41 7.96l-1.37-1.37c-.4-.4-.92-.59-1.43-.59-.52 0-1.04.2-1.43.59L10.3 9.45l-7.72 7.72c-.78.78-.78 2.05 0 2.83L4 21.41c.39.39.9.59 1.41.59.51 0 1.02-.2 1.41-.59l7.78-7.78 2.81-2.81c.8-.78.8-2.07 0-2.86zM5.41 20L4 18.59l7.72-7.72 1.47 1.35L5.41 20z\"/>\n",
              "  </svg>\n",
              "      </button>\n",
              "      \n",
              "  <style>\n",
              "    .colab-df-container {\n",
              "      display:flex;\n",
              "      flex-wrap:wrap;\n",
              "      gap: 12px;\n",
              "    }\n",
              "\n",
              "    .colab-df-convert {\n",
              "      background-color: #E8F0FE;\n",
              "      border: none;\n",
              "      border-radius: 50%;\n",
              "      cursor: pointer;\n",
              "      display: none;\n",
              "      fill: #1967D2;\n",
              "      height: 32px;\n",
              "      padding: 0 0 0 0;\n",
              "      width: 32px;\n",
              "    }\n",
              "\n",
              "    .colab-df-convert:hover {\n",
              "      background-color: #E2EBFA;\n",
              "      box-shadow: 0px 1px 2px rgba(60, 64, 67, 0.3), 0px 1px 3px 1px rgba(60, 64, 67, 0.15);\n",
              "      fill: #174EA6;\n",
              "    }\n",
              "\n",
              "    [theme=dark] .colab-df-convert {\n",
              "      background-color: #3B4455;\n",
              "      fill: #D2E3FC;\n",
              "    }\n",
              "\n",
              "    [theme=dark] .colab-df-convert:hover {\n",
              "      background-color: #434B5C;\n",
              "      box-shadow: 0px 1px 3px 1px rgba(0, 0, 0, 0.15);\n",
              "      filter: drop-shadow(0px 1px 2px rgba(0, 0, 0, 0.3));\n",
              "      fill: #FFFFFF;\n",
              "    }\n",
              "  </style>\n",
              "\n",
              "      <script>\n",
              "        const buttonEl =\n",
              "          document.querySelector('#df-39c8979f-a8f4-44a9-ac10-28d9d13d28cc button.colab-df-convert');\n",
              "        buttonEl.style.display =\n",
              "          google.colab.kernel.accessAllowed ? 'block' : 'none';\n",
              "\n",
              "        async function convertToInteractive(key) {\n",
              "          const element = document.querySelector('#df-39c8979f-a8f4-44a9-ac10-28d9d13d28cc');\n",
              "          const dataTable =\n",
              "            await google.colab.kernel.invokeFunction('convertToInteractive',\n",
              "                                                     [key], {});\n",
              "          if (!dataTable) return;\n",
              "\n",
              "          const docLinkHtml = 'Like what you see? Visit the ' +\n",
              "            '<a target=\"_blank\" href=https://colab.research.google.com/notebooks/data_table.ipynb>data table notebook</a>'\n",
              "            + ' to learn more about interactive tables.';\n",
              "          element.innerHTML = '';\n",
              "          dataTable['output_type'] = 'display_data';\n",
              "          await google.colab.output.renderOutput(dataTable, element);\n",
              "          const docLink = document.createElement('div');\n",
              "          docLink.innerHTML = docLinkHtml;\n",
              "          element.appendChild(docLink);\n",
              "        }\n",
              "      </script>\n",
              "    </div>\n",
              "  </div>\n",
              "  "
            ]
          },
          "metadata": {},
          "execution_count": 3
        }
      ]
    },
    {
      "cell_type": "code",
      "source": [
        "#agrupando os dados da class\n",
        "baseAgrupada=base.groupby(['class']).size()\n",
        "baseAgrupada"
      ],
      "metadata": {
        "id": "12VdT99PwbdO"
      },
      "execution_count": null,
      "outputs": []
    },
    {
      "cell_type": "code",
      "source": [
        "base.describe"
      ],
      "metadata": {
        "id": "50AuDfPK4XST",
        "colab": {
          "base_uri": "https://localhost:8080/"
        },
        "outputId": "249e4b36-4edb-4c7b-b0b7-06dfe9ea36d8"
      },
      "execution_count": null,
      "outputs": [
        {
          "output_type": "execute_result",
          "data": {
            "text/plain": [
              "<bound method NDFrame.describe of     checking_status  duration                    credit_history  \\\n",
              "0                <0         6  'critical/other existing credit'   \n",
              "1          0<=X<200        48                   'existing paid'   \n",
              "2     'no checking'        12  'critical/other existing credit'   \n",
              "3                <0        42                   'existing paid'   \n",
              "4                <0        24              'delayed previously'   \n",
              "..              ...       ...                               ...   \n",
              "995   'no checking'        12                   'existing paid'   \n",
              "996              <0        30                   'existing paid'   \n",
              "997   'no checking'        12                   'existing paid'   \n",
              "998              <0        45                   'existing paid'   \n",
              "999        0<=X<200        45  'critical/other existing credit'   \n",
              "\n",
              "                 purpose  credit_amount      savings_status  employment  \\\n",
              "0               radio/tv           1169  'no known savings'         >=7   \n",
              "1               radio/tv           5951                <100      1<=X<4   \n",
              "2              education           2096                <100      4<=X<7   \n",
              "3    furniture/equipment           7882                <100      4<=X<7   \n",
              "4              'new car'           4870                <100      1<=X<4   \n",
              "..                   ...            ...                 ...         ...   \n",
              "995  furniture/equipment           1736                <100      4<=X<7   \n",
              "996           'used car'           3857                <100      1<=X<4   \n",
              "997             radio/tv            804                <100         >=7   \n",
              "998             radio/tv           1845                <100      1<=X<4   \n",
              "999           'used car'           4576          100<=X<500  unemployed   \n",
              "\n",
              "     installment_commitment       personal_status other_parties  ...  \\\n",
              "0                         4         'male single'          none  ...   \n",
              "1                         2  'female div/dep/mar'          none  ...   \n",
              "2                         2         'male single'          none  ...   \n",
              "3                         2         'male single'     guarantor  ...   \n",
              "4                         3         'male single'          none  ...   \n",
              "..                      ...                   ...           ...  ...   \n",
              "995                       3  'female div/dep/mar'          none  ...   \n",
              "996                       4        'male div/sep'          none  ...   \n",
              "997                       4         'male single'          none  ...   \n",
              "998                       4         'male single'          none  ...   \n",
              "999                       3         'male single'          none  ...   \n",
              "\n",
              "      property_magnitude age  other_payment_plans     housing  \\\n",
              "0          'real estate'  67                 none         own   \n",
              "1          'real estate'  22                 none         own   \n",
              "2          'real estate'  49                 none         own   \n",
              "3       'life insurance'  45                 none  'for free'   \n",
              "4    'no known property'  53                 none  'for free'   \n",
              "..                   ...  ..                  ...         ...   \n",
              "995        'real estate'  31                 none         own   \n",
              "996     'life insurance'  40                 none         own   \n",
              "997                  car  38                 none         own   \n",
              "998  'no known property'  23                 none  'for free'   \n",
              "999                  car  27                 none         own   \n",
              "\n",
              "    existing_credits                          job num_dependents  \\\n",
              "0                  2                      skilled              1   \n",
              "1                  1                      skilled              1   \n",
              "2                  1         'unskilled resident'              2   \n",
              "3                  1                      skilled              2   \n",
              "4                  2                      skilled              2   \n",
              "..               ...                          ...            ...   \n",
              "995                1         'unskilled resident'              1   \n",
              "996                1  'high qualif/self emp/mgmt'              1   \n",
              "997                1                      skilled              1   \n",
              "998                1                      skilled              1   \n",
              "999                1                      skilled              1   \n",
              "\n",
              "     own_telephone foreign_worker class  \n",
              "0              yes            yes  good  \n",
              "1             none            yes   bad  \n",
              "2             none            yes  good  \n",
              "3             none            yes  good  \n",
              "4             none            yes   bad  \n",
              "..             ...            ...   ...  \n",
              "995           none            yes  good  \n",
              "996            yes            yes  good  \n",
              "997           none            yes  good  \n",
              "998            yes            yes   bad  \n",
              "999           none            yes  good  \n",
              "\n",
              "[1000 rows x 21 columns]>"
            ]
          },
          "metadata": {},
          "execution_count": 4
        }
      ]
    },
    {
      "cell_type": "code",
      "source": [
        "base.isnull().sum()\n",
        "#nenhum valor null"
      ],
      "metadata": {
        "id": "sAvmGNX24kFb"
      },
      "execution_count": null,
      "outputs": []
    },
    {
      "cell_type": "code",
      "source": [
        "#base checando numeros fora da realidade na idade\n",
        "base.loc[(base['age']< 0)|(base['age']>120)]"
      ],
      "metadata": {
        "id": "IOnDPz3o460M",
        "colab": {
          "base_uri": "https://localhost:8080/",
          "height": 142
        },
        "outputId": "5e79f42a-0cd6-42b6-ecc9-0e6bf7ca49f0"
      },
      "execution_count": null,
      "outputs": [
        {
          "output_type": "execute_result",
          "data": {
            "text/plain": [
              "Empty DataFrame\n",
              "Columns: [checking_status, duration, credit_history, purpose, credit_amount, savings_status, employment, installment_commitment, personal_status, other_parties, residence_since, property_magnitude, age, other_payment_plans, housing, existing_credits, job, num_dependents, own_telephone, foreign_worker, class]\n",
              "Index: []\n",
              "\n",
              "[0 rows x 21 columns]"
            ],
            "text/html": [
              "\n",
              "  <div id=\"df-58e6e6bf-c3ab-4b28-a74f-8f5d3bc8c9ef\">\n",
              "    <div class=\"colab-df-container\">\n",
              "      <div>\n",
              "<style scoped>\n",
              "    .dataframe tbody tr th:only-of-type {\n",
              "        vertical-align: middle;\n",
              "    }\n",
              "\n",
              "    .dataframe tbody tr th {\n",
              "        vertical-align: top;\n",
              "    }\n",
              "\n",
              "    .dataframe thead th {\n",
              "        text-align: right;\n",
              "    }\n",
              "</style>\n",
              "<table border=\"1\" class=\"dataframe\">\n",
              "  <thead>\n",
              "    <tr style=\"text-align: right;\">\n",
              "      <th></th>\n",
              "      <th>checking_status</th>\n",
              "      <th>duration</th>\n",
              "      <th>credit_history</th>\n",
              "      <th>purpose</th>\n",
              "      <th>credit_amount</th>\n",
              "      <th>savings_status</th>\n",
              "      <th>employment</th>\n",
              "      <th>installment_commitment</th>\n",
              "      <th>personal_status</th>\n",
              "      <th>other_parties</th>\n",
              "      <th>...</th>\n",
              "      <th>property_magnitude</th>\n",
              "      <th>age</th>\n",
              "      <th>other_payment_plans</th>\n",
              "      <th>housing</th>\n",
              "      <th>existing_credits</th>\n",
              "      <th>job</th>\n",
              "      <th>num_dependents</th>\n",
              "      <th>own_telephone</th>\n",
              "      <th>foreign_worker</th>\n",
              "      <th>class</th>\n",
              "    </tr>\n",
              "  </thead>\n",
              "  <tbody>\n",
              "  </tbody>\n",
              "</table>\n",
              "<p>0 rows × 21 columns</p>\n",
              "</div>\n",
              "      <button class=\"colab-df-convert\" onclick=\"convertToInteractive('df-58e6e6bf-c3ab-4b28-a74f-8f5d3bc8c9ef')\"\n",
              "              title=\"Convert this dataframe to an interactive table.\"\n",
              "              style=\"display:none;\">\n",
              "        \n",
              "  <svg xmlns=\"http://www.w3.org/2000/svg\" height=\"24px\"viewBox=\"0 0 24 24\"\n",
              "       width=\"24px\">\n",
              "    <path d=\"M0 0h24v24H0V0z\" fill=\"none\"/>\n",
              "    <path d=\"M18.56 5.44l.94 2.06.94-2.06 2.06-.94-2.06-.94-.94-2.06-.94 2.06-2.06.94zm-11 1L8.5 8.5l.94-2.06 2.06-.94-2.06-.94L8.5 2.5l-.94 2.06-2.06.94zm10 10l.94 2.06.94-2.06 2.06-.94-2.06-.94-.94-2.06-.94 2.06-2.06.94z\"/><path d=\"M17.41 7.96l-1.37-1.37c-.4-.4-.92-.59-1.43-.59-.52 0-1.04.2-1.43.59L10.3 9.45l-7.72 7.72c-.78.78-.78 2.05 0 2.83L4 21.41c.39.39.9.59 1.41.59.51 0 1.02-.2 1.41-.59l7.78-7.78 2.81-2.81c.8-.78.8-2.07 0-2.86zM5.41 20L4 18.59l7.72-7.72 1.47 1.35L5.41 20z\"/>\n",
              "  </svg>\n",
              "      </button>\n",
              "      \n",
              "  <style>\n",
              "    .colab-df-container {\n",
              "      display:flex;\n",
              "      flex-wrap:wrap;\n",
              "      gap: 12px;\n",
              "    }\n",
              "\n",
              "    .colab-df-convert {\n",
              "      background-color: #E8F0FE;\n",
              "      border: none;\n",
              "      border-radius: 50%;\n",
              "      cursor: pointer;\n",
              "      display: none;\n",
              "      fill: #1967D2;\n",
              "      height: 32px;\n",
              "      padding: 0 0 0 0;\n",
              "      width: 32px;\n",
              "    }\n",
              "\n",
              "    .colab-df-convert:hover {\n",
              "      background-color: #E2EBFA;\n",
              "      box-shadow: 0px 1px 2px rgba(60, 64, 67, 0.3), 0px 1px 3px 1px rgba(60, 64, 67, 0.15);\n",
              "      fill: #174EA6;\n",
              "    }\n",
              "\n",
              "    [theme=dark] .colab-df-convert {\n",
              "      background-color: #3B4455;\n",
              "      fill: #D2E3FC;\n",
              "    }\n",
              "\n",
              "    [theme=dark] .colab-df-convert:hover {\n",
              "      background-color: #434B5C;\n",
              "      box-shadow: 0px 1px 3px 1px rgba(0, 0, 0, 0.15);\n",
              "      filter: drop-shadow(0px 1px 2px rgba(0, 0, 0, 0.3));\n",
              "      fill: #FFFFFF;\n",
              "    }\n",
              "  </style>\n",
              "\n",
              "      <script>\n",
              "        const buttonEl =\n",
              "          document.querySelector('#df-58e6e6bf-c3ab-4b28-a74f-8f5d3bc8c9ef button.colab-df-convert');\n",
              "        buttonEl.style.display =\n",
              "          google.colab.kernel.accessAllowed ? 'block' : 'none';\n",
              "\n",
              "        async function convertToInteractive(key) {\n",
              "          const element = document.querySelector('#df-58e6e6bf-c3ab-4b28-a74f-8f5d3bc8c9ef');\n",
              "          const dataTable =\n",
              "            await google.colab.kernel.invokeFunction('convertToInteractive',\n",
              "                                                     [key], {});\n",
              "          if (!dataTable) return;\n",
              "\n",
              "          const docLinkHtml = 'Like what you see? Visit the ' +\n",
              "            '<a target=\"_blank\" href=https://colab.research.google.com/notebooks/data_table.ipynb>data table notebook</a>'\n",
              "            + ' to learn more about interactive tables.';\n",
              "          element.innerHTML = '';\n",
              "          dataTable['output_type'] = 'display_data';\n",
              "          await google.colab.output.renderOutput(dataTable, element);\n",
              "          const docLink = document.createElement('div');\n",
              "          docLink.innerHTML = docLinkHtml;\n",
              "          element.appendChild(docLink);\n",
              "        }\n",
              "      </script>\n",
              "    </div>\n",
              "  </div>\n",
              "  "
            ]
          },
          "metadata": {},
          "execution_count": 5
        }
      ]
    },
    {
      "cell_type": "code",
      "source": [
        "baseD=base.duplicated(['credit_amount'], keep=False)\n",
        "base.drop_duplicates(subset='credit_amount',keep='first',inplace=True)\n",
        "baseD"
      ],
      "metadata": {
        "id": "cW9GMy0u6IgP",
        "colab": {
          "base_uri": "https://localhost:8080/"
        },
        "outputId": "d253985e-8a40-44c7-b701-0ed9a99001a7"
      },
      "execution_count": null,
      "outputs": [
        {
          "output_type": "execute_result",
          "data": {
            "text/plain": [
              "0      False\n",
              "1      False\n",
              "2      False\n",
              "3      False\n",
              "4      False\n",
              "       ...  \n",
              "994    False\n",
              "995    False\n",
              "996    False\n",
              "997    False\n",
              "999    False\n",
              "Length: 921, dtype: bool"
            ]
          },
          "metadata": {},
          "execution_count": 8
        }
      ]
    },
    {
      "cell_type": "code",
      "source": [
        "grupo=base.groupby(['credit_amount']).describe()\n",
        "grupo\n",
        "#tratar std"
      ],
      "metadata": {
        "id": "DNhCn9VK6A35"
      },
      "execution_count": null,
      "outputs": []
    },
    {
      "cell_type": "code",
      "source": [],
      "metadata": {
        "id": "vdRqk5-6tTZa"
      },
      "execution_count": null,
      "outputs": []
    },
    {
      "cell_type": "code",
      "source": [
        "#base.groupby('duration')\n",
        "srn.boxplot(base['credit_amount']).set_title('Credit Amount')"
      ],
      "metadata": {
        "id": "1BZvkJxjoVvu",
        "colab": {
          "base_uri": "https://localhost:8080/",
          "height": 368
        },
        "outputId": "0393e842-ccb5-4e91-eb48-26bb2472c8e2"
      },
      "execution_count": null,
      "outputs": [
        {
          "output_type": "stream",
          "name": "stderr",
          "text": [
            "/usr/local/lib/python3.8/dist-packages/seaborn/_decorators.py:36: FutureWarning: Pass the following variable as a keyword arg: x. From version 0.12, the only valid positional argument will be `data`, and passing other arguments without an explicit keyword will result in an error or misinterpretation.\n",
            "  warnings.warn(\n"
          ]
        },
        {
          "output_type": "execute_result",
          "data": {
            "text/plain": [
              "Text(0.5, 1.0, 'Credit Amount')"
            ]
          },
          "metadata": {},
          "execution_count": 5
        },
        {
          "output_type": "display_data",
          "data": {
            "text/plain": [
              "<Figure size 432x288 with 1 Axes>"
            ],
            "image/png": "[encoded data removed]"
          },
          "metadata": {
            "needs_background": "light"
          }
        }
      ]
    },
    {
      "cell_type": "code",
      "source": [
        "base.describe"
      ],
      "metadata": {
        "id": "iHQEujspeCdA"
      },
      "execution_count": null,
      "outputs": []
    },
    {
      "cell_type": "code",
      "source": [
        "base['class'].isnull().sum()"
      ],
      "metadata": {
        "id": "K8EsM9iK1fRe"
      },
      "execution_count": null,
      "outputs": []
    },
    {
      "cell_type": "code",
      "source": [
        "base.describe"
      ],
      "metadata": {
        "id": "qLA7EHFJyyyG"
      },
      "execution_count": null,
      "outputs": []
    },
    {
      "cell_type": "code",
      "source": [
        "colNumber=base.columns.get_loc('credit_amount')\n",
        "colNumber"
      ],
      "metadata": {
        "id": "T3o4LNXw3kjN"
      },
      "execution_count": null,
      "outputs": []
    },
    {
      "cell_type": "code",
      "source": [
        "#relacao credito e duracao , credito==x e duracao==y\n",
        "credito= base.iloc[:,4].values\n",
        "duraccredito= base.iloc[:,4].values\n",
        "credito"
      ],
      "metadata": {
        "id": "D58uwrfr1-pX",
        "colab": {
          "base_uri": "https://localhost:8080/"
        },
        "outputId": "2333f184-661a-405f-e9bd-a08b3322fae5"
      },
      "execution_count": null,
      "outputs": [
        {
          "output_type": "execute_result",
          "data": {
            "text/plain": [
              "array([ 1169,  5951,  2096,  7882,  4870,  9055,  2835,  6948,  3059,\n",
              "        5234,  1295,  4308,  1567,  1199,  1403,  1282,  2424,  8072,\n",
              "       12579,  3430,  2134,  2647,  2241,  1804,  2069,  1374,   426,\n",
              "         409,  2415,  6836,  1913,  4020,  5866,  1264,  1474,  4746,\n",
              "        6110,  2100,  1225,   458,  2333,  1158,  6204,  6187,  6143,\n",
              "        1393,  2299,  1352,  7228,  2073,  5965,  1262,  3378,  2225,\n",
              "         783,  6468,  9566,  1961,  6229,  1391,  1537,  1953, 14421,\n",
              "        3181,  5190,  2171,  1007,  1819,  2394,  8133,   730,  1164,\n",
              "        5954,  1977,  1526,  3965,  4771,  9436,  3832,  5943,  1213,\n",
              "        1568,  1755,  2315,  1412, 12612,  2249,  1108,   618,  1409,\n",
              "         797,  3617,  1318, 15945,  2012,  2622,  2337,  7057,  1469,\n",
              "        2323,   932,  1919,  2445, 11938,  6458,  6078,  7721,  1410,\n",
              "        1449,   392,  6260,  7855,  1680,  3578,  7174,  2132,  4281,\n",
              "        2366,  1835,  3868,  1768,   781,  1924,  2121,   701,   639,\n",
              "        1860,  3499,  8487,  6887,  2708,  1984, 10144,  1240,  8613,\n",
              "         766,  2728,  1881,   709,  4795,  3416,  2462,  2288,  3566,\n",
              "         860,   682,  5371,  1582,  1346,  5848,  7758,  6967,  1288,\n",
              "         339,  3512,  1898,  2872,  1055,  7308,   909,  2978,  1131,\n",
              "        1577,  3972,  1935,   950,   763,  2064,  1414,  3414,  7485,\n",
              "        2577,   338,  1963,   571,  9572,  4455,  1647,  3777,   884,\n",
              "        1360,  5129,  1175,   674,  3244,  4591,  3844,  3915,  2108,\n",
              "        3031,  1501,  1382,   951,  2760,  4297,   936,  1168,  5117,\n",
              "         902,  1495, 10623,  1424,  6568,  1413,  3074,  3835,  5293,\n",
              "        1908,  3342,  3104,  3913,  3021,  1364,   625,  1200,   707,\n",
              "        4657,  2613, 10961,  7865,  1478,  3149,  4210,  2507,  2141,\n",
              "         866,  1544,  1823, 14555,  2767,  1291,  2522,   915,  1595,\n",
              "        4605,  1185,  3447,  1258,   717,  1204,  1925,   433,   666,\n",
              "        2251,  2150,  4151,  2030,  7418,  2684,  2149,  3812,  1154,\n",
              "        1657,  1603,  5302,  2748,  1231,   802,  6304,  1533,  8978,\n",
              "         999,  2662,  1402, 12169,  3060, 11998,  2697,  2404,  4611,\n",
              "        1901,  3368,  1574,  1445,  1520,  3878, 10722,  4788,  7582,\n",
              "        1092,  1024,  1076,  9398,  6419,  4796,  7629,  9960,  4675,\n",
              "        1287,  2515,  2745,   672,  3804,  1344,  1038, 10127,  1543,\n",
              "        4811,   727,  1237,   276,  5381,  5511,  3749,   685,  1494,\n",
              "        2746,   708,  4351,  3643,  4249,  1938,  2910,  2659,  1028,\n",
              "        3398,  5801,  1525,  4473,  1068,  6615,  1864,  7408, 11590,\n",
              "        4110,  3384,  2101,  1275,  4169,  1521,  5743,  3599,  3213,\n",
              "        4439,  3949,  1459,   882,  3758,  1743,  1136,  1236,   959,\n",
              "        3229,  6199,  1246,  2331,  4463,   776,  2406,  1239,  3399,\n",
              "        2247,  1766,  2473,  1542,  3850,  3650,  3446,  3001,  3079,\n",
              "        6070,  2146, 13756, 14782,  7685,  2320,   846, 14318,   362,\n",
              "        2212, 12976,  1283,  1330,  4272,  2238,  1126,  7374,  2326,\n",
              "        1820,   983,  3249,  1957, 11760,  2578,  2348,  1223,  1516,\n",
              "        1473,  1887,  8648,  2899,  2039,  2197,  1053,  3235,   939,\n",
              "        1967,  7253,  2292,  1597,  1381,  5842,  2579,  8471,  2782,\n",
              "        1042,  3186,  2028,   958,  1591,  2762,  2779,  2743,  1149,\n",
              "        1313,  1190,  3448, 11328,  1872,  2058,  2136,  1484,   660,\n",
              "        3394,   609,  1884,  1620,  2629,   719,  5096,  1244,  1842,\n",
              "        2576,  1512, 11054,   518,  2759,  2670,  4817,  2679,  3905,\n",
              "        3386,   343,  4594,  3620,  1721,  3017,   754,  1950,  2924,\n",
              "        1659,  7238,  2764,  4679,  3092,   448,   654,  1238,  1245,\n",
              "        3114,  2569,  5152,  1037,  3573,  1201,  3622,   960,  1163,\n",
              "        1209,  3077,  3757,  1418,  3518,  1934,  8318,   368,  2122,\n",
              "        2996,  9034,  1585,  1301,  1323,  3123,  5493,  1216,  1207,\n",
              "        1309,  2360,  6850,  8588,   759,  4686,  2687,   585,  2255,\n",
              "        1361,  7127,  1203,   700,  5507,  3190,  7119,  3488,  1113,\n",
              "        7966,  1532,  1503,  2302,   662,  2273,  2631,  1311,  3105,\n",
              "        2319,  3612,  7763,  3049,  1534,  2032,  6350,  2864,  1255,\n",
              "        1333,  2022,  1552,   626,  8858,   996,  1750,  6999,  1995,\n",
              "        1331,  2278,  5003,  3552,  1928,  2964,  1546,   683, 12389,\n",
              "        4712,  1553,  1372,  3979,  6758,  3234,  5433,   806,  1082,\n",
              "        2788,  2930,  1927,  2820,   937,  1056,  3124,  1388,  2384,\n",
              "        2133,  2799,  1289,  1217,  2246,   385,  1965,  1572,  2718,\n",
              "        1358,   931,  1442,  4241,  2775,  3863,  2329,   918,  1837,\n",
              "        3349,  2828,  4526,  2671,  2051,  1300,   741,  3357,  3632,\n",
              "        1808, 12204,  9157,  3676,  3441,   640,  3652,  1530,  3914,\n",
              "        1858,  2600,  1979,  2116,  1437,  4042,  3660,  1444,  1980,\n",
              "        1355,  1376, 15653,  1493,  4370,   750,  1308,  4623,  1851,\n",
              "        1880,  7980,  4583,  1386,   947,   684,  7476,  1922,  2303,\n",
              "        8086,  2346,  3973,   888, 10222,  4221,  6361,  1297,   900,\n",
              "        1050,  1047,  6314,  3496,  3609,  4843,  4139,  5742, 10366,\n",
              "        2080,  2580,  4530,  5150,  5595,  1453,  1538,  2279,  5103,\n",
              "        9857,  6527,  1347,  2862,  2753,  3651,   975,  2896,  4716,\n",
              "        2284,  1103,   926,  1800,  1905,  1123,  6331,  1377,  2503,\n",
              "        2528,  5324,  6560,  2969,  1206,  2118,   629,  1198,  2476,\n",
              "        1138, 14027,  7596,  1505,  3148,  6148,  1337,  1228,   790,\n",
              "        2570,   250,  1316,  1882,  6416,  6403,  1987,   760,  2603,\n",
              "        3380,  3990, 11560,  4380,  6761,  4280,  2325,  1048,  3160,\n",
              "        2483, 14179,  1797,  2511,  1274,  5248,  3029,   428,   976,\n",
              "         841,  5771,  1555,  1285,  1299,  1271,   691,  5045,  2124,\n",
              "        2214, 12680,  2463,  1155,  3108,  2901,  1655,  2812,  8065,\n",
              "        3275,  2223,  1480,  1371,  3535,  3509,  5711,  3872,  4933,\n",
              "        1940,   836,  1941,  2675,  2751,  6224,  5998,  1188,  6313,\n",
              "        1221,  2892,  3062,  2301,  7511,  1549,  1795,  7472,  9271,\n",
              "         590,   930,  9283,  1778,   907,   484,  9629,  3051,  3931,\n",
              "        7432,  1338,  1554, 15857,  1345,  1101,  3016,  2712,   731,\n",
              "        3780,  1602,  3966,  4165,  8335,  6681,  2375, 11816,  5084,\n",
              "        2327,   886,   601,  2957,  2611,  5179,  2993,  1943,  1559,\n",
              "        3422,  3976,  1249,  2235,  1471, 10875,   894,  3343,  3959,\n",
              "        3577,  5804,  2169,  2439,  2210,  2221,  2389,  3331,  7409,\n",
              "         652,  7678,  1343,   874,  3590,  1322,  3595,  1422,  6742,\n",
              "        7814,  9277,  2181,  1098,  4057,   795,  2825, 15672,  6614,\n",
              "        7824,  2442,  1829,  5800,  8947,  2606,  1592,  2186,  4153,\n",
              "        2625,  3485, 10477,  1278,  1107,  3763,  3711,  3594,  3195,\n",
              "        4454,  4736,  2991,  2142,  3161, 18424,  2848, 14896,  2359,\n",
              "        3345,  1817, 12749,  1366,  2002,  6872,   697,  1049, 10297,\n",
              "        1867,  1747,  1670,  1224,   522,  1498,   745,  2063,  6288,\n",
              "        6842,  3527,   929,  1455,  1845,  8358,  2859,  3621,  2145,\n",
              "        4113, 10974,  1893,  3656,  4006,  3069,  1740,  2353,  3556,\n",
              "        2397,   454,  1715,  2520,  3568,  7166,  3939,  1514,  7393,\n",
              "        1193,  7297,  2831,   753,  2427,  2538,  8386,  4844,  2923,\n",
              "        8229,  1433,  6289,  6579,  3565,  1569,  1936,  2390,  1736,\n",
              "        3857,   804,  4576])"
            ]
          },
          "metadata": {},
          "execution_count": 15
        }
      ]
    },
    {
      "cell_type": "code",
      "source": [
        "#correlacao entre o credito e a duracao, 0.62=moderada\n",
        "correlacao = np.corrcoef(credito, duracao)\n",
        "correlacao"
      ],
      "metadata": {
        "id": "G3sEiVHO4dIi",
        "colab": {
          "base_uri": "https://localhost:8080/"
        },
        "outputId": "f16765a4-e044-438a-f701-05c9d5db1905"
      },
      "execution_count": null,
      "outputs": [
        {
          "output_type": "execute_result",
          "data": {
            "text/plain": [
              "array([[1.        , 0.62695422],\n",
              "       [0.62695422, 1.        ]])"
            ]
          },
          "metadata": {},
          "execution_count": 16
        }
      ]
    },
    {
      "cell_type": "code",
      "source": [
        "credito = credito.reshape(-1, 1)\n",
        "modeloCD = LinearRegression()\n",
        "modeloCD.fit(credito, duracao)"
      ],
      "metadata": {
        "colab": {
          "base_uri": "https://localhost:8080/"
        },
        "id": "CFVx-M9M4lo_",
        "outputId": "aa7fe8e3-c4ec-4f9d-8055-950c869638aa"
      },
      "execution_count": null,
      "outputs": [
        {
          "output_type": "execute_result",
          "data": {
            "text/plain": [
              "LinearRegression()"
            ]
          },
          "metadata": {},
          "execution_count": 18
        }
      ]
    },
    {
      "cell_type": "code",
      "source": [
        "modeloCD.intercept_"
      ],
      "metadata": {
        "colab": {
          "base_uri": "https://localhost:8080/"
        },
        "id": "V12OmkJs6x4Y",
        "outputId": "0cb94195-9b29-4a45-8ac4-81bb1e421d1b"
      },
      "execution_count": null,
      "outputs": [
        {
          "output_type": "execute_result",
          "data": {
            "text/plain": [
              "12.194432856710982"
            ]
          },
          "metadata": {},
          "execution_count": 19
        }
      ]
    },
    {
      "cell_type": "code",
      "source": [
        "modeloCD.coef_"
      ],
      "metadata": {
        "colab": {
          "base_uri": "https://localhost:8080/"
        },
        "id": "M46JKwHs7AJy",
        "outputId": "e8a0e771-e3a0-478f-ee10-b3bbfb721ef7"
      },
      "execution_count": null,
      "outputs": [
        {
          "output_type": "execute_result",
          "data": {
            "text/plain": [
              "array([0.00266984])"
            ]
          },
          "metadata": {},
          "execution_count": 20
        }
      ]
    },
    {
      "cell_type": "code",
      "source": [
        "previsao=modeloCD.predict(credito)"
      ],
      "metadata": {
        "id": "ezcqIHsjRRSO"
      },
      "execution_count": null,
      "outputs": []
    },
    {
      "cell_type": "code",
      "source": [
        "plt.scatter(credito,duracao)"
      ],
      "metadata": {
        "id": "GyE7NDWG7OLa",
        "colab": {
          "base_uri": "https://localhost:8080/",
          "height": 282
        },
        "outputId": "40cff5d5-d012-4f26-f4ec-d99db0e60419"
      },
      "execution_count": null,
      "outputs": [
        {
          "output_type": "execute_result",
          "data": {
            "text/plain": [
              "<matplotlib.collections.PathCollection at 0x7f056f495f40>"
            ]
          },
          "metadata": {},
          "execution_count": 21
        },
        {
          "output_type": "display_data",
          "data": {
            "text/plain": [
              "<Figure size 432x288 with 1 Axes>"
            ],
            "image/png": "[encoded data removed]"
          },
          "metadata": {
            "needs_background": "light"
          }
        }
      ]
    },
    {
      "cell_type": "code",
      "source": [],
      "metadata": {
        "id": "5MNP4XZpRhkK"
      },
      "execution_count": null,
      "outputs": []
    }
  ]
}