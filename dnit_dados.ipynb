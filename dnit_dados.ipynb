{
  "nbformat": 4,
  "nbformat_minor": 0,
  "metadata": {
    "colab": {
      "provenance": [],
      "authorship_tag": "ABX9TyP+iaV4/YcZr5CunG03YisR",
      "include_colab_link": true
    },
    "kernelspec": {
      "name": "python3",
      "display_name": "Python 3"
    },
    "language_info": {
      "name": "python"
    }
  },
  "cells": [
    {
      "cell_type": "markdown",
      "metadata": {
        "id": "view-in-github",
        "colab_type": "text"
      },
      "source": [
        "<a href=\"https://colab.research.google.com/github/WandersonGustavo/Udemy_Data_Science/blob/main/dnit_dados.ipynb\" target=\"_parent\"><img src=\"https://colab.research.google.com/assets/colab-badge.svg\" alt=\"Open In Colab\"/></a>"
      ]
    },
    {
      "cell_type": "code",
      "execution_count": null,
      "metadata": {
        "id": "24EIvXN_du_L"
      },
      "outputs": [],
      "source": [
        "import pandas as pd\n",
        "import matplotlib.pyplot as plt\n",
        "import seaborn as sns\n",
        "import numpy as np\n",
        "from sklearn.linear_model import LinearRegression\n",
        "from yellowbrick.regressor import ResidualsPlot \n",
        "import statsmodels.formula.api as sm\n",
        "#**************************************\n",
        "\n",
        "from sklearn.linear_model import LinearRegression\n",
        "from sklearn.metrics import mean_squared_error, mean_absolute_error, r2_score"
      ]
    },
    {
      "cell_type": "code",
      "source": [
        "base=pd.read_csv('contagem_de_trafego_cgplan.csv',error_bad_lines=False, sep=\";\")"
      ],
      "metadata": {
        "id": "Eb_hMizEd5HF"
      },
      "execution_count": null,
      "outputs": []
    },
    {
      "cell_type": "code",
      "source": [
        "len(base)"
      ],
      "metadata": {
        "colab": {
          "base_uri": "https://localhost:8080/"
        },
        "id": "RRt2SqpEzanX",
        "outputId": "3f14f5df-e876-4d9f-a01d-b53b8264e0a5"
      },
      "execution_count": null,
      "outputs": [
        {
          "output_type": "execute_result",
          "data": {
            "text/plain": [
              "6769"
            ]
          },
          "metadata": {},
          "execution_count": 22
        }
      ]
    },
    {
      "cell_type": "code",
      "source": [
        "base"
      ],
      "metadata": {
        "id": "kb03nD0FrhLu"
      },
      "execution_count": null,
      "outputs": []
    },
    {
      "cell_type": "code",
      "source": [
        "#transf variavel categorica em númerica\n"
      ],
      "metadata": {
        "id": "4UZDXmD4QmQi"
      },
      "execution_count": null,
      "outputs": []
    },
    {
      "cell_type": "code",
      "source": [
        "#Tratando dados, primeiro verificar NaN nos id's\n",
        "idAgrupado=base.groupby(['ID']).size()\n",
        "idAgrupado"
      ],
      "metadata": {
        "id": "p7IoX4YOz5qT"
      },
      "execution_count": null,
      "outputs": []
    },
    {
      "cell_type": "code",
      "source": [
        "#verficar se há estados duplicados ou inexistentes\n",
        "ufAgrupado=base.groupby(['sg_uf']).describe()\n",
        "ufAgrupado"
      ],
      "metadata": {
        "id": "vaYvsNnMeuQk"
      },
      "execution_count": null,
      "outputs": []
    },
    {
      "cell_type": "code",
      "source": [
        "#verificar duplicações nos vl_codigo , ao todo 432 duplicados, ou seja a recorrência em 432 vias\n",
        "duplicados=base.duplicated(['vl_codigo']).sum()\n",
        "duplicados"
      ],
      "metadata": {
        "id": "ax-1iLcI6oTj",
        "colab": {
          "base_uri": "https://localhost:8080/"
        },
        "outputId": "5d786924-b1f9-421d-ccd2-4ed4d056e43e"
      },
      "execution_count": null,
      "outputs": [
        {
          "output_type": "execute_result",
          "data": {
            "text/plain": [
              "432"
            ]
          },
          "metadata": {},
          "execution_count": 6
        }
      ]
    },
    {
      "cell_type": "code",
      "source": [
        "#histograma do tipo do trecho em cada estado, vias de eixo principal são a maioria esmagadora dos tipos analisados,\n",
        "#uma vez que estamos tratando de trafego rodoviário\n",
        "histogramaTipo=plt.hist(base['nm_tipo_tr'])\n",
        "histogramaTipo=plt.title(\"Tipo do trecho por estado\")\n",
        "histogramaTipo=plt.figure( figsize=(50, 48))\n",
        "histogramaTipo=plt.gcf().set_size_inches(50, 48)\n",
        "histogramaTipo"
      ],
      "metadata": {
        "id": "aU10BLIDhzOg"
      },
      "execution_count": null,
      "outputs": []
    },
    {
      "cell_type": "code",
      "source": [
        "#na sequencia um boxplot relacionado aos em cada local\n",
        "bpLocais=sns.boxplot(base['id_trecho_']).set_title(\"Boxplot dos locais com maior incidência de trafego \")"
      ],
      "metadata": {
        "id": "plEc39wtjZve"
      },
      "execution_count": null,
      "outputs": []
    },
    {
      "cell_type": "code",
      "source": [
        "#histograma com linha de distribuição de frequencia por estados:\n",
        "sns.histplot(base.iloc[:,3],kde=False,bins=15,color='green').set_title('Estados')"
      ],
      "metadata": {
        "id": "KRXkqrmKkHzY",
        "colab": {
          "base_uri": "https://localhost:8080/",
          "height": 393
        },
        "outputId": "b06a011c-25b1-4036-ae2f-3d133c20bfbf"
      },
      "execution_count": null,
      "outputs": [
        {
          "output_type": "execute_result",
          "data": {
            "text/plain": [
              "Text(0.5, 1.0, 'Estados')"
            ]
          },
          "metadata": {},
          "execution_count": 5
        },
        {
          "output_type": "display_data",
          "data": {
            "text/plain": [
              "<Figure size 576x396 with 1 Axes>"
            ],
            "image/png": "[encoded data removed]"
          },
          "metadata": {}
        }
      ]
    },
    {
      "cell_type": "code",
      "source": [
        "\n",
        "sns.histplot(base.iloc[:,4],kde=False,bins=10,color='green').set_title('Vias de trafego')"
      ],
      "metadata": {
        "id": "7s_zt5-3qfmm"
      },
      "execution_count": null,
      "outputs": []
    },
    {
      "cell_type": "code",
      "source": [
        "#regressao linear simples: trecho por via\n",
        "#dia Feb/19, troca das variaveis , id passa a ser indep e trecho indep\n",
        "variavelI=base.iloc[:,0].values\n",
        "variavelT=base.iloc[:,2].values"
      ],
      "metadata": {
        "id": "FVyZ5FSFrpg0"
      },
      "execution_count": null,
      "outputs": []
    },
    {
      "cell_type": "code",
      "source": [
        "#construção da correlacao: 0.87 , alteracao da var y (22/02) aumentou correlacao\n",
        "correlacao=np.corrcoef(variavelI,variavelT)\n",
        "correlacao"
      ],
      "metadata": {
        "colab": {
          "base_uri": "https://localhost:8080/"
        },
        "id": "Y7TArSDYlH7g",
        "outputId": "669abab1-4b47-4def-a522-afee18e5436a"
      },
      "execution_count": null,
      "outputs": [
        {
          "output_type": "execute_result",
          "data": {
            "text/plain": [
              "array([[1.        , 0.87506564],\n",
              "       [0.87506564, 1.        ]])"
            ]
          },
          "metadata": {},
          "execution_count": 7
        }
      ]
    },
    {
      "cell_type": "code",
      "source": [
        "variavelI= variavelI.reshape(-1,1)#transformando variavel independente(trecho) em matriz de linha única para o modelo de regressao\n",
        "modeloIT=LinearRegression()"
      ],
      "metadata": {
        "id": "AwU5bkGolg3k"
      },
      "execution_count": null,
      "outputs": []
    },
    {
      "cell_type": "code",
      "source": [
        "#ajuste do modelo\n",
        "modeloIT.fit(variavelI,variavelT)"
      ],
      "metadata": {
        "colab": {
          "base_uri": "https://localhost:8080/"
        },
        "id": "bjRZezKEmmTZ",
        "outputId": "4c090142-0103-4f0d-b04c-d655d384d7fb"
      },
      "execution_count": null,
      "outputs": [
        {
          "output_type": "execute_result",
          "data": {
            "text/plain": [
              "LinearRegression()"
            ]
          },
          "metadata": {},
          "execution_count": 9
        }
      ]
    },
    {
      "cell_type": "code",
      "source": [
        "#vizualizar interceptacoes das var's\n",
        "modeloIT.intercept_"
      ],
      "metadata": {
        "id": "Ln_TVLIem0kM"
      },
      "execution_count": null,
      "outputs": []
    },
    {
      "cell_type": "code",
      "source": [
        "#coefcientes, mostrando uma interpretação moderada de 52,98 % devido alteracao de y\n",
        "modeloIT.coef_"
      ],
      "metadata": {
        "id": "PWxcoCB8nE7u"
      },
      "execution_count": null,
      "outputs": []
    },
    {
      "cell_type": "code",
      "source": [
        "#gráfico , após alteração da variavel y, esse modelo apresenta melhor tradução , porém outliers AINDA precisam ser tratados(22/02)\n",
        "plt.scatter(variavelI,variavelT)\n",
        "plt.plot(variavelI,modeloIT.predict(variavelI),color='red')"
      ],
      "metadata": {
        "id": "PzD8vNienW1L"
      },
      "execution_count": null,
      "outputs": []
    },
    {
      "cell_type": "code",
      "source": [
        "#previsão para um determinado trecho aleatorio\n",
        "modeloIT.intercept_ + modeloIT.coef_ *50"
      ],
      "metadata": {
        "id": "tuppikmqwrLh"
      },
      "execution_count": null,
      "outputs": []
    },
    {
      "cell_type": "code",
      "source": [
        "# Gráfico para visualizar os residuais, residuais apresentam tendencia , distribuição se aproxima de um distribuição normal\n",
        "visualizador = ResidualsPlot(modeloIT)\n",
        "visualizador.fit(variavelI,variavelT)\n",
        "visualizador.poof()"
      ],
      "metadata": {
        "id": "rSMLMKd6wLzg"
      },
      "execution_count": null,
      "outputs": []
    },
    {
      "cell_type": "code",
      "source": [],
      "metadata": {
        "id": "VIw3cc4__H54"
      },
      "execution_count": null,
      "outputs": []
    }
  ]
}