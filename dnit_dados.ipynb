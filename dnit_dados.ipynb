{
  "nbformat": 4,
  "nbformat_minor": 0,
  "metadata": {
    "colab": {
      "provenance": [],
      "authorship_tag": "ABX9TyP+iaV4/YcZr5CunG03YisR",
      "include_colab_link": true
    },
    "kernelspec": {
      "name": "python3",
      "display_name": "Python 3"
    },
    "language_info": {
      "name": "python"
    }
  },
  "cells": [
    {
      "cell_type": "markdown",
      "metadata": {
        "id": "view-in-github",
        "colab_type": "text"
      },
      "source": [
        "<a href=\"https://colab.research.google.com/github/WandersonGustavo/Udemy_Data_Science/blob/main/dnit_dados.ipynb\" target=\"_parent\"><img src=\"https://colab.research.google.com/assets/colab-badge.svg\" alt=\"Open In Colab\"/></a>"
      ]
    },
    {
      "cell_type": "code",
      "execution_count": null,
      "metadata": {
        "id": "24EIvXN_du_L"
      },
      "outputs": [],
      "source": [
        "import pandas as pd\n",
        "import matplotlib.pyplot as plt\n",
        "import seaborn as sns\n",
        "import numpy as np\n",
        "from sklearn.linear_model import LinearRegression\n",
        "from yellowbrick.regressor import ResidualsPlot \n",
        "import statsmodels.formula.api as sm\n",
        "#**************************************\n",
        "\n",
        "from sklearn.linear_model import LinearRegression\n",
        "from sklearn.metrics import mean_squared_error, mean_absolute_error, r2_score"
      ]
    },
    {
      "cell_type": "code",
      "source": [
        "base=pd.read_csv('contagem_de_trafego_cgplan.csv',error_bad_lines=False, sep=\";\")"
      ],
      "metadata": {
        "id": "Eb_hMizEd5HF",
        "colab": {
          "base_uri": "https://localhost:8080/"
        },
        "outputId": "fe6e1d6d-5cc9-48e0-e6e3-7f0c0cc923fe"
      },
      "execution_count": null,
      "outputs": [
        {
          "output_type": "stream",
          "name": "stderr",
          "text": [
            "/usr/local/lib/python3.8/dist-packages/IPython/core/interactiveshell.py:3326: FutureWarning: The error_bad_lines argument has been deprecated and will be removed in a future version.\n",
            "\n",
            "\n",
            "  exec(code_obj, self.user_global_ns, self.user_ns)\n"
          ]
        }
      ]
    },
    {
      "cell_type": "code",
      "source": [
        "len(base)"
      ],
      "metadata": {
        "colab": {
          "base_uri": "https://localhost:8080/"
        },
        "id": "RRt2SqpEzanX",
        "outputId": "3f14f5df-e876-4d9f-a01d-b53b8264e0a5"
      },
      "execution_count": null,
      "outputs": [
        {
          "output_type": "execute_result",
          "data": {
            "text/plain": [
              "6769"
            ]
          },
          "metadata": {},
          "execution_count": 22
        }
      ]
    },
    {
      "cell_type": "code",
      "source": [
        "base"
      ],
      "metadata": {
        "colab": {
          "base_uri": "https://localhost:8080/",
          "height": 869
        },
        "id": "kb03nD0FrhLu",
        "outputId": "9071a4c1-bab3-47b3-ba70-51a2fcbf090f"
      },
      "execution_count": null,
      "outputs": [
        {
          "output_type": "execute_result",
          "data": {
            "text/plain": [
              "        ID  id_trecho_  vl_br sg_uf      nm_tipo_tr sg_tipo_tr desc_coinc  \\\n",
              "0     4317      155030    307    AC  Eixo Principal          B          -   \n",
              "1     4318      155031    307    AC  Eixo Principal          B          -   \n",
              "2     4319      158261    307    AC  Eixo Principal          B          -   \n",
              "3     4320      158260    307    AC  Eixo Principal          B          -   \n",
              "4     4321      158259    307    AC  Eixo Principal          B          -   \n",
              "...    ...         ...    ...   ...             ...        ...        ...   \n",
              "6764  3434      160957    242    TO  Eixo Principal          B          -   \n",
              "6765  3435      154198    242    TO  Eixo Principal          B          -   \n",
              "6766  3436      154199    242    TO  Eixo Principal          B          -   \n",
              "6767  3437      154200    242    TO  Eixo Principal          B          -   \n",
              "6768  3438      154201    242    TO  Eixo Principal          B          -   \n",
              "\n",
              "       vl_codigo                                         ds_local_i  \\\n",
              "0     307BAC0005              ENTR AC-190/378 (MARECHAL TAUMATURGO)   \n",
              "1     307BAC0010                         ENTR AC-090 (PORTO VALTER)   \n",
              "2     307BAC0015                           INÍCIO TRECHO IMPLANTADO   \n",
              "3     307BAC0018                                      ENTR RAMAL 03   \n",
              "4     307BAC0020                          INÍCIO TRECHO PAVIMENTADO   \n",
              "...          ...                                                ...   \n",
              "6764  242BTO0500  ENTR AV. JOAQUIM BATISTA DE OLIVEIRA (FORMOSO ...   \n",
              "6765  242BTO0510                  ENTR TO-070 (FORMOSO DO ARAGUAIA)   \n",
              "6766  242BTO0512                                     ENTR TO-181(A)   \n",
              "6767  242BTO0520                                     ENTR TO-181(B)   \n",
              "6768  242BTO0530                           PORTO PIAUÍ (RIO JAVAÉS)   \n",
              "\n",
              "                             ds_local_f  ... E_D F_D G_D H_D  I_D J_D VMDa_C  \\\n",
              "0            ENTR AC-090 (PORTO VALTER)  ...   -   -   -   -    -   -      -   \n",
              "1              INÍCIO TRECHO IMPLANTADO  ...   -   -   -   -    -   -      -   \n",
              "2                         ENTR RAMAL 03  ...   -   -   -   -    -   -      -   \n",
              "3             INÍCIO TRECHO PAVIMENTADO  ...   -   -   -   -    -   -      -   \n",
              "4                        ENTR BR-364(A)  ...   -   -   -   -    -   -      -   \n",
              "...                                 ...  ...  ..  ..  ..  ..  ...  ..    ...   \n",
              "6764  ENTR TO-070 (FORMOSO DO ARAGUAIA)  ...   6   4   0   0  344  43    569   \n",
              "6765                     ENTR TO-181(A)  ...   -   -   -   -    -   -      -   \n",
              "6766                     ENTR TO-181(B)  ...   -   -   -   -    -   -      -   \n",
              "6767           PORTO PIAUÍ (RIO JAVAÉS)  ...   -   -   -   -    -   -      -   \n",
              "6768  DIV TO/MT (SÃO FÉLIX DO ARAGUAIA)  ...   -   -   -   -    -   -      -   \n",
              "\n",
              "     VMDa_D NS_C NS_D  \n",
              "0         -    -    -  \n",
              "1         -    -    -  \n",
              "2         -    -    -  \n",
              "3         -    -    -  \n",
              "4         -    -    -  \n",
              "...     ...  ...  ...  \n",
              "6764    547    A    A  \n",
              "6765      -    -    -  \n",
              "6766      -    -    -  \n",
              "6767      -    -    -  \n",
              "6768      -    -    -  \n",
              "\n",
              "[6769 rows x 56 columns]"
            ],
            "text/html": [
              "\n",
              "  <div id=\"df-cefb39b2-a924-4820-8756-956736741a10\">\n",
              "    <div class=\"colab-df-container\">\n",
              "      <div>\n",
              "<style scoped>\n",
              "    .dataframe tbody tr th:only-of-type {\n",
              "        vertical-align: middle;\n",
              "    }\n",
              "\n",
              "    .dataframe tbody tr th {\n",
              "        vertical-align: top;\n",
              "    }\n",
              "\n",
              "    .dataframe thead th {\n",
              "        text-align: right;\n",
              "    }\n",
              "</style>\n",
              "<table border=\"1\" class=\"dataframe\">\n",
              "  <thead>\n",
              "    <tr style=\"text-align: right;\">\n",
              "      <th></th>\n",
              "      <th>ID</th>\n",
              "      <th>id_trecho_</th>\n",
              "      <th>vl_br</th>\n",
              "      <th>sg_uf</th>\n",
              "      <th>nm_tipo_tr</th>\n",
              "      <th>sg_tipo_tr</th>\n",
              "      <th>desc_coinc</th>\n",
              "      <th>vl_codigo</th>\n",
              "      <th>ds_local_i</th>\n",
              "      <th>ds_local_f</th>\n",
              "      <th>...</th>\n",
              "      <th>E_D</th>\n",
              "      <th>F_D</th>\n",
              "      <th>G_D</th>\n",
              "      <th>H_D</th>\n",
              "      <th>I_D</th>\n",
              "      <th>J_D</th>\n",
              "      <th>VMDa_C</th>\n",
              "      <th>VMDa_D</th>\n",
              "      <th>NS_C</th>\n",
              "      <th>NS_D</th>\n",
              "    </tr>\n",
              "  </thead>\n",
              "  <tbody>\n",
              "    <tr>\n",
              "      <th>0</th>\n",
              "      <td>4317</td>\n",
              "      <td>155030</td>\n",
              "      <td>307</td>\n",
              "      <td>AC</td>\n",
              "      <td>Eixo Principal</td>\n",
              "      <td>B</td>\n",
              "      <td>-</td>\n",
              "      <td>307BAC0005</td>\n",
              "      <td>ENTR AC-190/378 (MARECHAL TAUMATURGO)</td>\n",
              "      <td>ENTR AC-090 (PORTO VALTER)</td>\n",
              "      <td>...</td>\n",
              "      <td>-</td>\n",
              "      <td>-</td>\n",
              "      <td>-</td>\n",
              "      <td>-</td>\n",
              "      <td>-</td>\n",
              "      <td>-</td>\n",
              "      <td>-</td>\n",
              "      <td>-</td>\n",
              "      <td>-</td>\n",
              "      <td>-</td>\n",
              "    </tr>\n",
              "    <tr>\n",
              "      <th>1</th>\n",
              "      <td>4318</td>\n",
              "      <td>155031</td>\n",
              "      <td>307</td>\n",
              "      <td>AC</td>\n",
              "      <td>Eixo Principal</td>\n",
              "      <td>B</td>\n",
              "      <td>-</td>\n",
              "      <td>307BAC0010</td>\n",
              "      <td>ENTR AC-090 (PORTO VALTER)</td>\n",
              "      <td>INÍCIO TRECHO IMPLANTADO</td>\n",
              "      <td>...</td>\n",
              "      <td>-</td>\n",
              "      <td>-</td>\n",
              "      <td>-</td>\n",
              "      <td>-</td>\n",
              "      <td>-</td>\n",
              "      <td>-</td>\n",
              "      <td>-</td>\n",
              "      <td>-</td>\n",
              "      <td>-</td>\n",
              "      <td>-</td>\n",
              "    </tr>\n",
              "    <tr>\n",
              "      <th>2</th>\n",
              "      <td>4319</td>\n",
              "      <td>158261</td>\n",
              "      <td>307</td>\n",
              "      <td>AC</td>\n",
              "      <td>Eixo Principal</td>\n",
              "      <td>B</td>\n",
              "      <td>-</td>\n",
              "      <td>307BAC0015</td>\n",
              "      <td>INÍCIO TRECHO IMPLANTADO</td>\n",
              "      <td>ENTR RAMAL 03</td>\n",
              "      <td>...</td>\n",
              "      <td>-</td>\n",
              "      <td>-</td>\n",
              "      <td>-</td>\n",
              "      <td>-</td>\n",
              "      <td>-</td>\n",
              "      <td>-</td>\n",
              "      <td>-</td>\n",
              "      <td>-</td>\n",
              "      <td>-</td>\n",
              "      <td>-</td>\n",
              "    </tr>\n",
              "    <tr>\n",
              "      <th>3</th>\n",
              "      <td>4320</td>\n",
              "      <td>158260</td>\n",
              "      <td>307</td>\n",
              "      <td>AC</td>\n",
              "      <td>Eixo Principal</td>\n",
              "      <td>B</td>\n",
              "      <td>-</td>\n",
              "      <td>307BAC0018</td>\n",
              "      <td>ENTR RAMAL 03</td>\n",
              "      <td>INÍCIO TRECHO PAVIMENTADO</td>\n",
              "      <td>...</td>\n",
              "      <td>-</td>\n",
              "      <td>-</td>\n",
              "      <td>-</td>\n",
              "      <td>-</td>\n",
              "      <td>-</td>\n",
              "      <td>-</td>\n",
              "      <td>-</td>\n",
              "      <td>-</td>\n",
              "      <td>-</td>\n",
              "      <td>-</td>\n",
              "    </tr>\n",
              "    <tr>\n",
              "      <th>4</th>\n",
              "      <td>4321</td>\n",
              "      <td>158259</td>\n",
              "      <td>307</td>\n",
              "      <td>AC</td>\n",
              "      <td>Eixo Principal</td>\n",
              "      <td>B</td>\n",
              "      <td>-</td>\n",
              "      <td>307BAC0020</td>\n",
              "      <td>INÍCIO TRECHO PAVIMENTADO</td>\n",
              "      <td>ENTR BR-364(A)</td>\n",
              "      <td>...</td>\n",
              "      <td>-</td>\n",
              "      <td>-</td>\n",
              "      <td>-</td>\n",
              "      <td>-</td>\n",
              "      <td>-</td>\n",
              "      <td>-</td>\n",
              "      <td>-</td>\n",
              "      <td>-</td>\n",
              "      <td>-</td>\n",
              "      <td>-</td>\n",
              "    </tr>\n",
              "    <tr>\n",
              "      <th>...</th>\n",
              "      <td>...</td>\n",
              "      <td>...</td>\n",
              "      <td>...</td>\n",
              "      <td>...</td>\n",
              "      <td>...</td>\n",
              "      <td>...</td>\n",
              "      <td>...</td>\n",
              "      <td>...</td>\n",
              "      <td>...</td>\n",
              "      <td>...</td>\n",
              "      <td>...</td>\n",
              "      <td>...</td>\n",
              "      <td>...</td>\n",
              "      <td>...</td>\n",
              "      <td>...</td>\n",
              "      <td>...</td>\n",
              "      <td>...</td>\n",
              "      <td>...</td>\n",
              "      <td>...</td>\n",
              "      <td>...</td>\n",
              "      <td>...</td>\n",
              "    </tr>\n",
              "    <tr>\n",
              "      <th>6764</th>\n",
              "      <td>3434</td>\n",
              "      <td>160957</td>\n",
              "      <td>242</td>\n",
              "      <td>TO</td>\n",
              "      <td>Eixo Principal</td>\n",
              "      <td>B</td>\n",
              "      <td>-</td>\n",
              "      <td>242BTO0500</td>\n",
              "      <td>ENTR AV. JOAQUIM BATISTA DE OLIVEIRA (FORMOSO ...</td>\n",
              "      <td>ENTR TO-070 (FORMOSO DO ARAGUAIA)</td>\n",
              "      <td>...</td>\n",
              "      <td>6</td>\n",
              "      <td>4</td>\n",
              "      <td>0</td>\n",
              "      <td>0</td>\n",
              "      <td>344</td>\n",
              "      <td>43</td>\n",
              "      <td>569</td>\n",
              "      <td>547</td>\n",
              "      <td>A</td>\n",
              "      <td>A</td>\n",
              "    </tr>\n",
              "    <tr>\n",
              "      <th>6765</th>\n",
              "      <td>3435</td>\n",
              "      <td>154198</td>\n",
              "      <td>242</td>\n",
              "      <td>TO</td>\n",
              "      <td>Eixo Principal</td>\n",
              "      <td>B</td>\n",
              "      <td>-</td>\n",
              "      <td>242BTO0510</td>\n",
              "      <td>ENTR TO-070 (FORMOSO DO ARAGUAIA)</td>\n",
              "      <td>ENTR TO-181(A)</td>\n",
              "      <td>...</td>\n",
              "      <td>-</td>\n",
              "      <td>-</td>\n",
              "      <td>-</td>\n",
              "      <td>-</td>\n",
              "      <td>-</td>\n",
              "      <td>-</td>\n",
              "      <td>-</td>\n",
              "      <td>-</td>\n",
              "      <td>-</td>\n",
              "      <td>-</td>\n",
              "    </tr>\n",
              "    <tr>\n",
              "      <th>6766</th>\n",
              "      <td>3436</td>\n",
              "      <td>154199</td>\n",
              "      <td>242</td>\n",
              "      <td>TO</td>\n",
              "      <td>Eixo Principal</td>\n",
              "      <td>B</td>\n",
              "      <td>-</td>\n",
              "      <td>242BTO0512</td>\n",
              "      <td>ENTR TO-181(A)</td>\n",
              "      <td>ENTR TO-181(B)</td>\n",
              "      <td>...</td>\n",
              "      <td>-</td>\n",
              "      <td>-</td>\n",
              "      <td>-</td>\n",
              "      <td>-</td>\n",
              "      <td>-</td>\n",
              "      <td>-</td>\n",
              "      <td>-</td>\n",
              "      <td>-</td>\n",
              "      <td>-</td>\n",
              "      <td>-</td>\n",
              "    </tr>\n",
              "    <tr>\n",
              "      <th>6767</th>\n",
              "      <td>3437</td>\n",
              "      <td>154200</td>\n",
              "      <td>242</td>\n",
              "      <td>TO</td>\n",
              "      <td>Eixo Principal</td>\n",
              "      <td>B</td>\n",
              "      <td>-</td>\n",
              "      <td>242BTO0520</td>\n",
              "      <td>ENTR TO-181(B)</td>\n",
              "      <td>PORTO PIAUÍ (RIO JAVAÉS)</td>\n",
              "      <td>...</td>\n",
              "      <td>-</td>\n",
              "      <td>-</td>\n",
              "      <td>-</td>\n",
              "      <td>-</td>\n",
              "      <td>-</td>\n",
              "      <td>-</td>\n",
              "      <td>-</td>\n",
              "      <td>-</td>\n",
              "      <td>-</td>\n",
              "      <td>-</td>\n",
              "    </tr>\n",
              "    <tr>\n",
              "      <th>6768</th>\n",
              "      <td>3438</td>\n",
              "      <td>154201</td>\n",
              "      <td>242</td>\n",
              "      <td>TO</td>\n",
              "      <td>Eixo Principal</td>\n",
              "      <td>B</td>\n",
              "      <td>-</td>\n",
              "      <td>242BTO0530</td>\n",
              "      <td>PORTO PIAUÍ (RIO JAVAÉS)</td>\n",
              "      <td>DIV TO/MT (SÃO FÉLIX DO ARAGUAIA)</td>\n",
              "      <td>...</td>\n",
              "      <td>-</td>\n",
              "      <td>-</td>\n",
              "      <td>-</td>\n",
              "      <td>-</td>\n",
              "      <td>-</td>\n",
              "      <td>-</td>\n",
              "      <td>-</td>\n",
              "      <td>-</td>\n",
              "      <td>-</td>\n",
              "      <td>-</td>\n",
              "    </tr>\n",
              "  </tbody>\n",
              "</table>\n",
              "<p>6769 rows × 56 columns</p>\n",
              "</div>\n",
              "      <button class=\"colab-df-convert\" onclick=\"convertToInteractive('df-cefb39b2-a924-4820-8756-956736741a10')\"\n",
              "              title=\"Convert this dataframe to an interactive table.\"\n",
              "              style=\"display:none;\">\n",
              "        \n",
              "  <svg xmlns=\"http://www.w3.org/2000/svg\" height=\"24px\"viewBox=\"0 0 24 24\"\n",
              "       width=\"24px\">\n",
              "    <path d=\"M0 0h24v24H0V0z\" fill=\"none\"/>\n",
              "    <path d=\"M18.56 5.44l.94 2.06.94-2.06 2.06-.94-2.06-.94-.94-2.06-.94 2.06-2.06.94zm-11 1L8.5 8.5l.94-2.06 2.06-.94-2.06-.94L8.5 2.5l-.94 2.06-2.06.94zm10 10l.94 2.06.94-2.06 2.06-.94-2.06-.94-.94-2.06-.94 2.06-2.06.94z\"/><path d=\"M17.41 7.96l-1.37-1.37c-.4-.4-.92-.59-1.43-.59-.52 0-1.04.2-1.43.59L10.3 9.45l-7.72 7.72c-.78.78-.78 2.05 0 2.83L4 21.41c.39.39.9.59 1.41.59.51 0 1.02-.2 1.41-.59l7.78-7.78 2.81-2.81c.8-.78.8-2.07 0-2.86zM5.41 20L4 18.59l7.72-7.72 1.47 1.35L5.41 20z\"/>\n",
              "  </svg>\n",
              "      </button>\n",
              "      \n",
              "  <style>\n",
              "    .colab-df-container {\n",
              "      display:flex;\n",
              "      flex-wrap:wrap;\n",
              "      gap: 12px;\n",
              "    }\n",
              "\n",
              "    .colab-df-convert {\n",
              "      background-color: #E8F0FE;\n",
              "      border: none;\n",
              "      border-radius: 50%;\n",
              "      cursor: pointer;\n",
              "      display: none;\n",
              "      fill: #1967D2;\n",
              "      height: 32px;\n",
              "      padding: 0 0 0 0;\n",
              "      width: 32px;\n",
              "    }\n",
              "\n",
              "    .colab-df-convert:hover {\n",
              "      background-color: #E2EBFA;\n",
              "      box-shadow: 0px 1px 2px rgba(60, 64, 67, 0.3), 0px 1px 3px 1px rgba(60, 64, 67, 0.15);\n",
              "      fill: #174EA6;\n",
              "    }\n",
              "\n",
              "    [theme=dark] .colab-df-convert {\n",
              "      background-color: #3B4455;\n",
              "      fill: #D2E3FC;\n",
              "    }\n",
              "\n",
              "    [theme=dark] .colab-df-convert:hover {\n",
              "      background-color: #434B5C;\n",
              "      box-shadow: 0px 1px 3px 1px rgba(0, 0, 0, 0.15);\n",
              "      filter: drop-shadow(0px 1px 2px rgba(0, 0, 0, 0.3));\n",
              "      fill: #FFFFFF;\n",
              "    }\n",
              "  </style>\n",
              "\n",
              "      <script>\n",
              "        const buttonEl =\n",
              "          document.querySelector('#df-cefb39b2-a924-4820-8756-956736741a10 button.colab-df-convert');\n",
              "        buttonEl.style.display =\n",
              "          google.colab.kernel.accessAllowed ? 'block' : 'none';\n",
              "\n",
              "        async function convertToInteractive(key) {\n",
              "          const element = document.querySelector('#df-cefb39b2-a924-4820-8756-956736741a10');\n",
              "          const dataTable =\n",
              "            await google.colab.kernel.invokeFunction('convertToInteractive',\n",
              "                                                     [key], {});\n",
              "          if (!dataTable) return;\n",
              "\n",
              "          const docLinkHtml = 'Like what you see? Visit the ' +\n",
              "            '<a target=\"_blank\" href=https://colab.research.google.com/notebooks/data_table.ipynb>data table notebook</a>'\n",
              "            + ' to learn more about interactive tables.';\n",
              "          element.innerHTML = '';\n",
              "          dataTable['output_type'] = 'display_data';\n",
              "          await google.colab.output.renderOutput(dataTable, element);\n",
              "          const docLink = document.createElement('div');\n",
              "          docLink.innerHTML = docLinkHtml;\n",
              "          element.appendChild(docLink);\n",
              "        }\n",
              "      </script>\n",
              "    </div>\n",
              "  </div>\n",
              "  "
            ]
          },
          "metadata": {},
          "execution_count": 4
        }
      ]
    },
    {
      "cell_type": "code",
      "source": [
        "#transf variavel categorica em númerica\n"
      ],
      "metadata": {
        "id": "4UZDXmD4QmQi"
      },
      "execution_count": null,
      "outputs": []
    },
    {
      "cell_type": "code",
      "source": [
        "#Tratando dados, primeiro verificar NaN nos id's\n",
        "idAgrupado=base.groupby(['ID']).size()\n",
        "idAgrupado"
      ],
      "metadata": {
        "id": "p7IoX4YOz5qT"
      },
      "execution_count": null,
      "outputs": []
    },
    {
      "cell_type": "code",
      "source": [
        "#verficar se há estados duplicados ou inexistentes\n",
        "ufAgrupado=base.groupby(['sg_uf']).describe()\n",
        "ufAgrupado"
      ],
      "metadata": {
        "id": "vaYvsNnMeuQk"
      },
      "execution_count": null,
      "outputs": []
    },
    {
      "cell_type": "code",
      "source": [
        "#verificar duplicações nos vl_codigo , ao todo 432 duplicados, ou seja a recorrência em 432 vias\n",
        "duplicados=base.duplicated(['vl_codigo']).sum()\n",
        "duplicados"
      ],
      "metadata": {
        "id": "ax-1iLcI6oTj",
        "colab": {
          "base_uri": "https://localhost:8080/"
        },
        "outputId": "5d786924-b1f9-421d-ccd2-4ed4d056e43e"
      },
      "execution_count": null,
      "outputs": [
        {
          "output_type": "execute_result",
          "data": {
            "text/plain": [
              "432"
            ]
          },
          "metadata": {},
          "execution_count": 6
        }
      ]
    },
    {
      "cell_type": "code",
      "source": [
        "#histograma do tipo do trecho em cada estado, vias de eixo principal são a maioria esmagadora dos tipos analisados,\n",
        "#uma vez que estamos tratando de trafego rodoviário\n",
        "histogramaTipo=plt.hist(base['nm_tipo_tr'])\n",
        "histogramaTipo=plt.title(\"Tipo do trecho por estado\")\n",
        "histogramaTipo=plt.figure( figsize=(50, 48))\n",
        "histogramaTipo=plt.gcf().set_size_inches(50, 48)\n",
        "histogramaTipo"
      ],
      "metadata": {
        "id": "aU10BLIDhzOg",
        "colab": {
          "base_uri": "https://localhost:8080/",
          "height": 380
        },
        "outputId": "a5b14c9d-d88c-4dd8-866e-b833c5836f09"
      },
      "execution_count": null,
      "outputs": [
        {
          "output_type": "display_data",
          "data": {
            "text/plain": [
              "<Figure size 576x396 with 1 Axes>"
            ],
            "image/png": "[encoded data removed]"
          },
          "metadata": {}
        },
        {
          "output_type": "display_data",
          "data": {
            "text/plain": [
              "<Figure size 3600x3456 with 0 Axes>"
            ]
          },
          "metadata": {}
        }
      ]
    },
    {
      "cell_type": "code",
      "source": [
        "#na sequencia um boxplot relacionado aos em cada local\n",
        "bpLocais=sns.boxplot(base['id_trecho_']).set_title(\"Boxplot dos locais com maior incidência de trafego \")"
      ],
      "metadata": {
        "id": "plEc39wtjZve"
      },
      "execution_count": null,
      "outputs": []
    },
    {
      "cell_type": "code",
      "source": [
        "#histograma com linha de distribuição de frequencia por estados:\n",
        "sns.histplot(base.iloc[:,3],kde=False,bins=15,color='green').set_title('Estados')"
      ],
      "metadata": {
        "id": "KRXkqrmKkHzY",
        "colab": {
          "base_uri": "https://localhost:8080/",
          "height": 393
        },
        "outputId": "b06a011c-25b1-4036-ae2f-3d133c20bfbf"
      },
      "execution_count": null,
      "outputs": [
        {
          "output_type": "execute_result",
          "data": {
            "text/plain": [
              "Text(0.5, 1.0, 'Estados')"
            ]
          },
          "metadata": {},
          "execution_count": 5
        },
        {
          "output_type": "display_data",
          "data": {
            "text/plain": [
              "<Figure size 576x396 with 1 Axes>"
            ],
            "image/png": "[encoded data removed]"
          },
          "metadata": {}
        }
      ]
    },
    {
      "cell_type": "code",
      "source": [
        "\n",
        "sns.histplot(base.iloc[:,4],kde=False,bins=10,color='green').set_title('Vias de trafego')"
      ],
      "metadata": {
        "id": "7s_zt5-3qfmm"
      },
      "execution_count": null,
      "outputs": []
    },
    {
      "cell_type": "code",
      "source": [
        "#regressao linear simples: trecho por via\n",
        "#dia Feb/19, troca das variaveis , id passa a ser indep e trecho indep\n",
        "variavelI=base.iloc[:,0].values\n",
        "variavelT=base.iloc[:,2].values"
      ],
      "metadata": {
        "id": "FVyZ5FSFrpg0"
      },
      "execution_count": null,
      "outputs": []
    },
    {
      "cell_type": "code",
      "source": [
        "#construção da correlacao: 0.87 , alteracao da var y (22/02) aumentou correlacao\n",
        "correlacao=np.corrcoef(variavelI,variavelT)\n",
        "correlacao"
      ],
      "metadata": {
        "colab": {
          "base_uri": "https://localhost:8080/"
        },
        "id": "Y7TArSDYlH7g",
        "outputId": "669abab1-4b47-4def-a522-afee18e5436a"
      },
      "execution_count": null,
      "outputs": [
        {
          "output_type": "execute_result",
          "data": {
            "text/plain": [
              "array([[1.        , 0.87506564],\n",
              "       [0.87506564, 1.        ]])"
            ]
          },
          "metadata": {},
          "execution_count": 7
        }
      ]
    },
    {
      "cell_type": "code",
      "source": [
        "variavelI= variavelI.reshape(-1,1)#transformando variavel independente(trecho) em matriz de linha única para o modelo de regressao\n",
        "modeloIT=LinearRegression()"
      ],
      "metadata": {
        "id": "AwU5bkGolg3k"
      },
      "execution_count": null,
      "outputs": []
    },
    {
      "cell_type": "code",
      "source": [
        "#ajuste do modelo\n",
        "modeloIT.fit(variavelI,variavelT)"
      ],
      "metadata": {
        "colab": {
          "base_uri": "https://localhost:8080/"
        },
        "id": "bjRZezKEmmTZ",
        "outputId": "4c090142-0103-4f0d-b04c-d655d384d7fb"
      },
      "execution_count": null,
      "outputs": [
        {
          "output_type": "execute_result",
          "data": {
            "text/plain": [
              "LinearRegression()"
            ]
          },
          "metadata": {},
          "execution_count": 9
        }
      ]
    },
    {
      "cell_type": "code",
      "source": [
        "#vizualizar interceptacoes das var's\n",
        "modeloIT.intercept_"
      ],
      "metadata": {
        "id": "Ln_TVLIem0kM"
      },
      "execution_count": null,
      "outputs": []
    },
    {
      "cell_type": "code",
      "source": [
        "#coefcientes, mostrando uma interpretação moderada de 52,98 % devido alteracao de y\n",
        "modeloIT.coef_"
      ],
      "metadata": {
        "id": "PWxcoCB8nE7u"
      },
      "execution_count": null,
      "outputs": []
    },
    {
      "cell_type": "code",
      "source": [
        "#gráfico , após alteração da variavel y, esse modelo apresenta melhor tradução , porém outliers AINDA precisam ser tratados(22/02)\n",
        "plt.scatter(variavelI,variavelT)\n",
        "plt.plot(variavelI,modeloIT.predict(variavelI),color='red')"
      ],
      "metadata": {
        "id": "PzD8vNienW1L"
      },
      "execution_count": null,
      "outputs": []
    },
    {
      "cell_type": "code",
      "source": [
        "#previsão para um determinado trecho aleatorio\n",
        "modeloIT.intercept_ + modeloIT.coef_ *50"
      ],
      "metadata": {
        "id": "tuppikmqwrLh"
      },
      "execution_count": null,
      "outputs": []
    },
    {
      "cell_type": "code",
      "source": [
        "# Gráfico para visualizar os residuais, residuais apresentam tendencia , distribuição se aproxima de um distribuição normal\n",
        "visualizador = ResidualsPlot(modeloIT)\n",
        "visualizador.fit(variavelI,variavelT)\n",
        "visualizador.poof()"
      ],
      "metadata": {
        "id": "rSMLMKd6wLzg"
      },
      "execution_count": null,
      "outputs": []
    },
    {
      "cell_type": "code",
      "source": [],
      "metadata": {
        "id": "VIw3cc4__H54"
      },
      "execution_count": null,
      "outputs": []
    }
  ]
}