{
  "nbformat": 4,
  "nbformat_minor": 0,
  "metadata": {
    "colab": {
      "provenance": [],
      "authorship_tag": "ABX9TyOV4dbWFy8GH4Ggsdd5r8jT",
      "include_colab_link": true
    },
    "kernelspec": {
      "name": "python3",
      "display_name": "Python 3"
    },
    "language_info": {
      "name": "python"
    }
  },
  "cells": [
    {
      "cell_type": "markdown",
      "metadata": {
        "id": "view-in-github",
        "colab_type": "text"
      },
      "source": [
        "<a href=\"https://colab.research.google.com/github/WandersonGustavo/Udemy_Data_Science/blob/main/dnit_dados2.ipynb\" target=\"_parent\"><img src=\"https://colab.research.google.com/assets/colab-badge.svg\" alt=\"Open In Colab\"/></a>"
      ]
    },
    {
      "cell_type": "code",
      "execution_count": null,
      "metadata": {
        "id": "heAwMKoTcnJk"
      },
      "outputs": [],
      "source": [
        "import pandas as pd\n",
        "import numpy as np\n",
        "import matplotlib.pyplot as plt\n",
        "import seaborn as sns\n",
        "from sklearn.model_selection import train_test_split\n",
        "from sklearn.linear_model import LinearRegression\n",
        "from sklearn.metrics import mean_squared_log_error\n",
        "from sklearn.metrics import mean_squared_error\n",
        "from sklearn.preprocessing import LabelEncoder"
      ]
    },
    {
      "cell_type": "code",
      "source": [
        "base=pd.read_csv('icm_-01-2023-transparencia.csv',on_bad_lines='skip',sep=\";\")\n"
      ],
      "metadata": {
        "id": "KH3tAYeEc1mK"
      },
      "execution_count": null,
      "outputs": []
    },
    {
      "cell_type": "code",
      "source": [
        "base.columns=['UF','Rodovia','km inicial','km final','Extensão (km)','Data','Latitude','Longitude','Observação','ICMNP']\n"
      ],
      "metadata": {
        "id": "7AIhvGYteNVQ"
      },
      "execution_count": null,
      "outputs": []
    },
    {
      "cell_type": "code",
      "source": [
        "base2=pd.read_csv('icm_12_2022.csv',on_bad_lines='skip',sep=\";\")\n"
      ],
      "metadata": {
        "id": "eRFd8vv6dARV"
      },
      "execution_count": null,
      "outputs": []
    },
    {
      "cell_type": "code",
      "source": [
        "base2.columns=['UF','Rodovia','km inicial','km final','Extensão (km)','Data','Latitude','Longitude','ICC','ICP','ICM']\n"
      ],
      "metadata": {
        "id": "70maqC8rgurW"
      },
      "execution_count": null,
      "outputs": []
    },
    {
      "cell_type": "code",
      "source": [
        "#AGUPAR E EXIBIR DADOS DA BAHIA\n",
        "dadosBahia22=base2.groupby(['UF'])\n",
        "dadosBahia22\n",
        "dadosBahia22.get_group('BA')\n",
        "lat22BA=dadosBahia22.head(31)"
      ],
      "metadata": {
        "id": "zpDdA9mrfErG"
      },
      "execution_count": null,
      "outputs": []
    },
    {
      "cell_type": "code",
      "source": [
        "dadosBahia23=base.groupby(['UF'])\n",
        "dadosBahia23=dadosBahia23.get_group('BA')\n",
        "dadosBahia23.describe()"
      ],
      "metadata": {
        "id": "wmvpXJI3k2KO"
      },
      "execution_count": null,
      "outputs": []
    },
    {
      "cell_type": "code",
      "source": [
        "#latitude dos trechos baianos\n",
        "longitude=base.groupby(['Longitude'])\n",
        "lon23BA=dadosBahia23\n",
        "lon23BA.Longitude.head(31)\n",
        "lon23BA.describe\n"
      ],
      "metadata": {
        "id": "hvph2hSAo1xZ"
      },
      "execution_count": null,
      "outputs": []
    },
    {
      "cell_type": "code",
      "source": [
        "\n",
        "icmnp=base.groupby(['ICMNP'])\n",
        "i23BA=dadosBahia23\n",
        "#lat23BA.Latitude.head(31)\n",
        "i23BA.describe"
      ],
      "metadata": {
        "id": "CVnaEUYrk08L"
      },
      "execution_count": null,
      "outputs": []
    },
    {
      "cell_type": "code",
      "source": [
        "dadosBahia22=base2.groupby(['UF'])\n",
        "dadosBahia22=lat22BA\n",
        "dadosBahia22.describe()"
      ],
      "metadata": {
        "id": "P5ZJV7t6h3dn"
      },
      "execution_count": null,
      "outputs": []
    },
    {
      "cell_type": "code",
      "source": [
        "icm=base2.groupby(['ICM'])\n",
        "icm22BA=dadosBahia22.describe()\n",
        "#icm22BA.ICM.head(31)\n",
        "icm22BA.describe"
      ],
      "metadata": {
        "id": "PR83YS9AhqOw"
      },
      "execution_count": null,
      "outputs": []
    },
    {
      "cell_type": "code",
      "source": [
        "indice23=base.groupby(['ICMNP'])\n",
        "dadosBahia23=i23BA\n",
        "yy=dadosBahia23\n",
        "yy.describe()"
      ],
      "metadata": {
        "id": "GmR92wjuubyN"
      },
      "execution_count": null,
      "outputs": []
    },
    {
      "cell_type": "code",
      "source": [
        "dadosBahia22=lat22BA\n",
        "xx=dadosBahia22\n",
        "xx.describe()"
      ],
      "metadata": {
        "colab": {
          "base_uri": "https://localhost:8080/",
          "height": 174
        },
        "id": "cUwTXzw8kmbM",
        "outputId": "0bb4ff5f-b0f6-4795-8a22-17b47774b452"
      },
      "execution_count": null,
      "outputs": [
        {
          "output_type": "execute_result",
          "data": {
            "text/plain": [
              "         UF Rodovia km inicial km final Extensão (km)        Data Latitude  \\\n",
              "count   714     714        714      714           714         714      714   \n",
              "unique   24      24        404      392            17          16      238   \n",
              "top      MS  BR-101      2,000    1,000         1,000  06/12/2022        0   \n",
              "freq     31      93         11       11           679         124       75   \n",
              "\n",
              "       Longitude     ICC    ICP    ICM  \n",
              "count        714     714    714    714  \n",
              "unique       236      20     32    117  \n",
              "top            0  25,000  0,000  7,500  \n",
              "freq          75     229    201     62  "
            ],
            "text/html": [
              "\n",
              "  <div id=\"df-47b22328-cf19-4ecb-9752-d5019d35c7ae\">\n",
              "    <div class=\"colab-df-container\">\n",
              "      <div>\n",
              "<style scoped>\n",
              "    .dataframe tbody tr th:only-of-type {\n",
              "        vertical-align: middle;\n",
              "    }\n",
              "\n",
              "    .dataframe tbody tr th {\n",
              "        vertical-align: top;\n",
              "    }\n",
              "\n",
              "    .dataframe thead th {\n",
              "        text-align: right;\n",
              "    }\n",
              "</style>\n",
              "<table border=\"1\" class=\"dataframe\">\n",
              "  <thead>\n",
              "    <tr style=\"text-align: right;\">\n",
              "      <th></th>\n",
              "      <th>UF</th>\n",
              "      <th>Rodovia</th>\n",
              "      <th>km inicial</th>\n",
              "      <th>km final</th>\n",
              "      <th>Extensão (km)</th>\n",
              "      <th>Data</th>\n",
              "      <th>Latitude</th>\n",
              "      <th>Longitude</th>\n",
              "      <th>ICC</th>\n",
              "      <th>ICP</th>\n",
              "      <th>ICM</th>\n",
              "    </tr>\n",
              "  </thead>\n",
              "  <tbody>\n",
              "    <tr>\n",
              "      <th>count</th>\n",
              "      <td>714</td>\n",
              "      <td>714</td>\n",
              "      <td>714</td>\n",
              "      <td>714</td>\n",
              "      <td>714</td>\n",
              "      <td>714</td>\n",
              "      <td>714</td>\n",
              "      <td>714</td>\n",
              "      <td>714</td>\n",
              "      <td>714</td>\n",
              "      <td>714</td>\n",
              "    </tr>\n",
              "    <tr>\n",
              "      <th>unique</th>\n",
              "      <td>24</td>\n",
              "      <td>24</td>\n",
              "      <td>404</td>\n",
              "      <td>392</td>\n",
              "      <td>17</td>\n",
              "      <td>16</td>\n",
              "      <td>238</td>\n",
              "      <td>236</td>\n",
              "      <td>20</td>\n",
              "      <td>32</td>\n",
              "      <td>117</td>\n",
              "    </tr>\n",
              "    <tr>\n",
              "      <th>top</th>\n",
              "      <td>MS</td>\n",
              "      <td>BR-101</td>\n",
              "      <td>2,000</td>\n",
              "      <td>1,000</td>\n",
              "      <td>1,000</td>\n",
              "      <td>06/12/2022</td>\n",
              "      <td>0</td>\n",
              "      <td>0</td>\n",
              "      <td>25,000</td>\n",
              "      <td>0,000</td>\n",
              "      <td>7,500</td>\n",
              "    </tr>\n",
              "    <tr>\n",
              "      <th>freq</th>\n",
              "      <td>31</td>\n",
              "      <td>93</td>\n",
              "      <td>11</td>\n",
              "      <td>11</td>\n",
              "      <td>679</td>\n",
              "      <td>124</td>\n",
              "      <td>75</td>\n",
              "      <td>75</td>\n",
              "      <td>229</td>\n",
              "      <td>201</td>\n",
              "      <td>62</td>\n",
              "    </tr>\n",
              "  </tbody>\n",
              "</table>\n",
              "</div>\n",
              "      <button class=\"colab-df-convert\" onclick=\"convertToInteractive('df-47b22328-cf19-4ecb-9752-d5019d35c7ae')\"\n",
              "              title=\"Convert this dataframe to an interactive table.\"\n",
              "              style=\"display:none;\">\n",
              "        \n",
              "  <svg xmlns=\"http://www.w3.org/2000/svg\" height=\"24px\"viewBox=\"0 0 24 24\"\n",
              "       width=\"24px\">\n",
              "    <path d=\"M0 0h24v24H0V0z\" fill=\"none\"/>\n",
              "    <path d=\"M18.56 5.44l.94 2.06.94-2.06 2.06-.94-2.06-.94-.94-2.06-.94 2.06-2.06.94zm-11 1L8.5 8.5l.94-2.06 2.06-.94-2.06-.94L8.5 2.5l-.94 2.06-2.06.94zm10 10l.94 2.06.94-2.06 2.06-.94-2.06-.94-.94-2.06-.94 2.06-2.06.94z\"/><path d=\"M17.41 7.96l-1.37-1.37c-.4-.4-.92-.59-1.43-.59-.52 0-1.04.2-1.43.59L10.3 9.45l-7.72 7.72c-.78.78-.78 2.05 0 2.83L4 21.41c.39.39.9.59 1.41.59.51 0 1.02-.2 1.41-.59l7.78-7.78 2.81-2.81c.8-.78.8-2.07 0-2.86zM5.41 20L4 18.59l7.72-7.72 1.47 1.35L5.41 20z\"/>\n",
              "  </svg>\n",
              "      </button>\n",
              "      \n",
              "  <style>\n",
              "    .colab-df-container {\n",
              "      display:flex;\n",
              "      flex-wrap:wrap;\n",
              "      gap: 12px;\n",
              "    }\n",
              "\n",
              "    .colab-df-convert {\n",
              "      background-color: #E8F0FE;\n",
              "      border: none;\n",
              "      border-radius: 50%;\n",
              "      cursor: pointer;\n",
              "      display: none;\n",
              "      fill: #1967D2;\n",
              "      height: 32px;\n",
              "      padding: 0 0 0 0;\n",
              "      width: 32px;\n",
              "    }\n",
              "\n",
              "    .colab-df-convert:hover {\n",
              "      background-color: #E2EBFA;\n",
              "      box-shadow: 0px 1px 2px rgba(60, 64, 67, 0.3), 0px 1px 3px 1px rgba(60, 64, 67, 0.15);\n",
              "      fill: #174EA6;\n",
              "    }\n",
              "\n",
              "    [theme=dark] .colab-df-convert {\n",
              "      background-color: #3B4455;\n",
              "      fill: #D2E3FC;\n",
              "    }\n",
              "\n",
              "    [theme=dark] .colab-df-convert:hover {\n",
              "      background-color: #434B5C;\n",
              "      box-shadow: 0px 1px 3px 1px rgba(0, 0, 0, 0.15);\n",
              "      filter: drop-shadow(0px 1px 2px rgba(0, 0, 0, 0.3));\n",
              "      fill: #FFFFFF;\n",
              "    }\n",
              "  </style>\n",
              "\n",
              "      <script>\n",
              "        const buttonEl =\n",
              "          document.querySelector('#df-47b22328-cf19-4ecb-9752-d5019d35c7ae button.colab-df-convert');\n",
              "        buttonEl.style.display =\n",
              "          google.colab.kernel.accessAllowed ? 'block' : 'none';\n",
              "\n",
              "        async function convertToInteractive(key) {\n",
              "          const element = document.querySelector('#df-47b22328-cf19-4ecb-9752-d5019d35c7ae');\n",
              "          const dataTable =\n",
              "            await google.colab.kernel.invokeFunction('convertToInteractive',\n",
              "                                                     [key], {});\n",
              "          if (!dataTable) return;\n",
              "\n",
              "          const docLinkHtml = 'Like what you see? Visit the ' +\n",
              "            '<a target=\"_blank\" href=https://colab.research.google.com/notebooks/data_table.ipynb>data table notebook</a>'\n",
              "            + ' to learn more about interactive tables.';\n",
              "          element.innerHTML = '';\n",
              "          dataTable['output_type'] = 'display_data';\n",
              "          await google.colab.output.renderOutput(dataTable, element);\n",
              "          const docLink = document.createElement('div');\n",
              "          docLink.innerHTML = docLinkHtml;\n",
              "          element.appendChild(docLink);\n",
              "        }\n",
              "      </script>\n",
              "    </div>\n",
              "  </div>\n",
              "  "
            ]
          },
          "metadata": {},
          "execution_count": 13
        }
      ]
    },
    {
      "cell_type": "code",
      "source": [
        "#\n",
        "a=\"12,5\"\n",
        "b=a.replace(\",\",\".\")\n",
        "b1=float(b)\n",
        "b1\n"
      ],
      "metadata": {
        "colab": {
          "base_uri": "https://localhost:8080/"
        },
        "id": "Kl6fbg-HqjFK",
        "outputId": "1f7fd2d0-1e37-4e01-e1f6-aa3b53809e7f"
      },
      "execution_count": null,
      "outputs": [
        {
          "output_type": "execute_result",
          "data": {
            "text/plain": [
              "12.5"
            ]
          },
          "metadata": {},
          "execution_count": 37
        }
      ]
    },
    {
      "cell_type": "code",
      "source": [
        "#TRANSFORMAÇÃO DOS DADOS DE STRING PRA FLOAT AGR PODE CORRELACIONAR\n",
        "i23BA['ICMNP']=i23BA['ICMNP'].apply(lambda x: str(x).replace(\",\",\".\") )\n",
        "i23BA['ICMNP']=i23BA['ICMNP'].astype('float64')\n"
      ],
      "metadata": {
        "id": "Goaxh8zs0LxF"
      },
      "execution_count": null,
      "outputs": []
    },
    {
      "cell_type": "code",
      "source": [
        "#******************************************''DADOS DE 2022 ABAIXO''***********************************************************************\n",
        "lon23BA['Longitude']=lon23BA['Longitude'].apply(lambda x: str(x).replace(\",\",\".\") )\n",
        "lon23BA['Longitude']=lon23BA['Longitude'].astype('float64')"
      ],
      "metadata": {
        "id": "DOXUle6Lp5ar"
      },
      "execution_count": null,
      "outputs": []
    }
  ]
}